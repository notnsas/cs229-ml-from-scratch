{
  "nbformat": 4,
  "nbformat_minor": 0,
  "metadata": {
    "colab": {
      "provenance": [],
      "authorship_tag": "ABX9TyO7wrCDybAMdDt0uEs/jxqJ",
      "include_colab_link": true
    },
    "kernelspec": {
      "name": "python3",
      "display_name": "Python 3"
    },
    "language_info": {
      "name": "python"
    }
  },
  "cells": [
    {
      "cell_type": "markdown",
      "metadata": {
        "id": "view-in-github",
        "colab_type": "text"
      },
      "source": [
        "<a href=\"https://colab.research.google.com/github/notnsas/cs229-ml-from-scratch/blob/main/cs229_ml_from_scratch.ipynb\" target=\"_parent\"><img src=\"https://colab.research.google.com/assets/colab-badge.svg\" alt=\"Open In Colab\"/></a>"
      ]
    },
    {
      "cell_type": "code",
      "execution_count": null,
      "metadata": {
        "id": "eUHG_3bUx00b"
      },
      "outputs": [],
      "source": [
        "import numpy as np\n",
        "class LogisticRegression:\n",
        "  def __init__(self, X, y=None, lr=0.01):\n",
        "    # Params untuk menyimpan parameter dan gradientnya\n",
        "    self.params = {}\n",
        "\n",
        "    # inisiasi parameter\n",
        "    # Menambah col baru dengan semua isinya bernilai 1 ke x\n",
        "    # yang digunakan agar kita memiliki intercept di rumus linear regresi\n",
        "    # yang menggunakan vector form\n",
        "    self.X = np.concatenate((np.ones([np.shape(X)[0], 1]), X),axis=1)\n",
        "    self.y = y\n",
        "    # learning rate sebagai konstanta belajar seberapa cepat mengupdate gradient\n",
        "    self.lr = lr\n",
        "    # Inisiasi parameter linear regresi dengan menggunakan nilai random\n",
        "    self.params['W'] = np.random.rand(1, self.X.shape[1])\n",
        "\n",
        "  def predict(self, X, mode=\"test\"):\n",
        "    \"\"\"Untuk Prediksi y Berdasarkan input X menggunakan model linear regresi\"\"\"\n",
        "    if mode == \"test\":\n",
        "      # Menambah col baru dengan semua isinya bernilai 1 ke x\n",
        "      # yang digunakan agar kita memiliki intercept di rumus linear regresi\n",
        "      # yang menggunakan vector form\n",
        "      X = np.concatenate((np.ones([np.shape(X)[0], 1]), X),axis=1)\n",
        "      output = self.forward(X, mode)\n",
        "      output = self.sigmoid(output, mode)\n",
        "      return np.round(output)\n",
        "    # Memprediksi y berdasarkan X menggunakan model yang sudah dibuat\n",
        "    output = self.forward(X, mode)\n",
        "    output = self.sigmoid(output, mode)\n",
        "    return output\n",
        "\n",
        "  def forward(self, X, mode=\"test\"):\n",
        "    return np.dot(X, self.params[\"W\"].T)\n",
        "\n",
        "  def sigmoid(self, X, mode=\"test\"):\n",
        "    return 1 / (1 + np.exp(-X))\n",
        "\n",
        "  def loss(self, output, y):\n",
        "    \"\"\"Menghitung loss\"\"\"\n",
        "    # Menghitung loss menggunakan mean squared error dan dikali 1/2 agar\n",
        "    # gradientnya nanti gampang dihitung\n",
        "    # return 1/2 * np.mean(np.square(output - y))\n",
        "    loss = y * np.log(output) + (1 - y) * np.log((1 - output))\n",
        "    loss = np.sum(loss)\n",
        "    # print(loss)\n",
        "    return loss\n",
        "\n",
        "  def batch(self, batch_size):\n",
        "    \"\"\"Menggunakan mini-batch untuk menghitung loss, output, dan gradien\"\"\"\n",
        "    # Meninisiasi loss dan menshuffle X & y\n",
        "    loss = 0\n",
        "    # Menshuffle menggunakan fungsi np.random.permutation() sebagai index\n",
        "    # lalu menggunakan index tersebut untuk menshuffle X dan y\n",
        "    indices = np.random.permutation(len(self.y))\n",
        "    X_shuffle = self.X[indices]\n",
        "    y_shuffle = self.y[indices]\n",
        "\n",
        "    # Membagi data menjadi minibatch yg diitung loss nya\n",
        "    for i in range(0, len(self.y), batch_size):\n",
        "      end = min(i + batch_size, len(self.y))\n",
        "      # Membagi data per batch dengan banyak n (training example) sesuai\n",
        "      # dengan batch_size yang dipilih\n",
        "      X_batch = X_shuffle[i:end, :]\n",
        "      y_batch = y_shuffle[i:end]\n",
        "      # Kalulasi loss per batch\n",
        "      a = self.calculate(X_batch, y_batch, \"train\", \"gradient_descent\")[0]\n",
        "\n",
        "      # Melakukan running average dari loss sebelumnya agar mendapatkan rata\n",
        "      # rata loss dari mini batch\n",
        "      loss = loss + a * (end - i)\n",
        "    # Return total loss dari loss yang didapatkan menggunakan running average\n",
        "    # dan dibagi total training (n)\n",
        "    return loss / len(self.y)\n",
        "\n",
        "\n",
        "  def calculate(self, X, y, mode=\"test\", solver_type=\"gradient_descent\"):\n",
        "    \"\"\"Untuk kalkulasi gradien output dan least square dari model\"\"\"\n",
        "    # Mendapatkan output dari linear regresi\n",
        "    output = self.predict(X, mode=mode)\n",
        "    # Bila modenya train\n",
        "    if mode == \"train\":\n",
        "      # Training menggunakan gradient descent\n",
        "      # Menghitung loss menggunakan output dan y\n",
        "      loss = self.loss(output, y)\n",
        "\n",
        "      # Menentukan solver type gradient descent atau metode least square\n",
        "      if solver_type == \"gradient_descent\":\n",
        "        # Menghitung gradient menggunakan rumus dibawah\n",
        "        self.params['dW'] = np.dot((y[:, np.newaxis] - output).T, X) / len(y)\n",
        "        # Update parameter berdasarkan gradient dikali konstanta belajar (lr/learning rate)\n",
        "        self.params['W'] += self.lr * self.params['dW']\n",
        "      # Bila menggunakan metode least square / metode kuadrat terkecil\n",
        "      else:\n",
        "        # Perhitungan menggunakan metode kuadrat terkecil agar mendapatkan\n",
        "        # Parameter optimal untuk model secara langsung agar meminimalkan\n",
        "        # loss function\n",
        "        a = np.linalg.inv(np.dot(X.T, X))\n",
        "        b = np.dot(X.T, y)\n",
        "        c = np.dot(a, b)\n",
        "\n",
        "        # Mengupdate parameter berdasarkan parameter optimal\n",
        "        self.params['W'] = c[:, np.newaxis].T\n",
        "\n",
        "    # Return output bila mode test\n",
        "    else:\n",
        "      return output\n",
        "\n",
        "    # Return loss serta output\n",
        "    return loss, output\n",
        "\n",
        "  def train(self, solver_type=\"gradient_descent\", epoch=50, batch_size=216):\n",
        "    \"\"\"Untuk train model linear regresi\"\"\"\n",
        "    if solver_type == \"gradient_descent\":\n",
        "      # Bila solver type gradient descent update parameter dilakukan sampai\n",
        "      # epoch/iterasi tertentu\n",
        "      for i in range(epoch):\n",
        "        # Menghitung loss dari model yang di update parameternya\n",
        "        loss = self.batch(batch_size)\n",
        "        print(f\"[Epoch {i + 1}] : loss = {loss}\")\n",
        "    else:\n",
        "      # Menghitung loss yang sudah di update parameternya menggunakan least square/metode kuadrat terkecil\n",
        "      loss, _ = self.calculate(self.X, self.y, \"train\", \"least_square\")\n",
        "      print(f\"loss : {loss}\")\n"
      ]
    },
    {
      "cell_type": "code",
      "source": [
        "import kagglehub\n",
        "\n",
        "# Download latest version\n",
        "path = kagglehub.dataset_download(\"fedesoriano/stroke-prediction-dataset\")\n",
        "\n",
        "print(\"Path to dataset files:\", path)"
      ],
      "metadata": {
        "colab": {
          "base_uri": "https://localhost:8080/"
        },
        "id": "-lS_9B-se1Dk",
        "outputId": "f563255c-1563-46b4-94b0-10b417e0ccd2"
      },
      "execution_count": null,
      "outputs": [
        {
          "output_type": "stream",
          "name": "stdout",
          "text": [
            "Path to dataset files: /root/.cache/kagglehub/datasets/fedesoriano/stroke-prediction-dataset/versions/1\n"
          ]
        }
      ]
    },
    {
      "cell_type": "code",
      "source": [
        "from os import listdir\n",
        "from os.path import isfile, join\n",
        "\n",
        "mypath = '/root/.cache/kagglehub/datasets/fedesoriano/stroke-prediction-dataset/versions/1'\n",
        "onlyfiles = [f for f in listdir(mypath) if isfile(join(mypath, f))]"
      ],
      "metadata": {
        "id": "4Wbg2X7se-Tp"
      },
      "execution_count": null,
      "outputs": []
    },
    {
      "cell_type": "code",
      "source": [
        "onlyfiles"
      ],
      "metadata": {
        "id": "2iwxe2LmytfA",
        "colab": {
          "base_uri": "https://localhost:8080/"
        },
        "outputId": "73bf44d8-d0ef-4e2e-bc86-af4fcc989f9e"
      },
      "execution_count": null,
      "outputs": [
        {
          "output_type": "execute_result",
          "data": {
            "text/plain": [
              "['healthcare-dataset-stroke-data.csv']"
            ]
          },
          "metadata": {},
          "execution_count": 62
        }
      ]
    },
    {
      "cell_type": "code",
      "source": [
        "import pandas as pd\n",
        "df = pd.read_csv(\"/root/.cache/kagglehub/datasets/fedesoriano/stroke-prediction-dataset/versions/1/healthcare-dataset-stroke-data.csv\")\n",
        "df = df.select_dtypes(include='number')\n",
        "df = df.fillna(df.mean())"
      ],
      "metadata": {
        "id": "RIb0ZLRBfdRV"
      },
      "execution_count": null,
      "outputs": []
    },
    {
      "cell_type": "code",
      "source": [
        "X = df[[i for i in df.select_dtypes(include='number').columns if i!= \"stroke\"]]\n",
        "y = df['stroke']\n"
      ],
      "metadata": {
        "id": "tZdYe56pfk5U"
      },
      "execution_count": null,
      "outputs": []
    },
    {
      "cell_type": "code",
      "source": [
        "from sklearn.preprocessing import StandardScaler\n",
        "\n",
        "# Initialize the scaler\n",
        "standard_scaler = StandardScaler()\n",
        "\n",
        "# Fit and transform the data\n",
        "X = pd.DataFrame(standard_scaler.fit_transform(X), columns=X.columns)\n",
        "X"
      ],
      "metadata": {
        "colab": {
          "base_uri": "https://localhost:8080/",
          "height": 423
        },
        "id": "UPvTCVywhaCQ",
        "outputId": "8fe5ec60-7600-46c8-909e-ca3596133bda"
      },
      "execution_count": null,
      "outputs": [
        {
          "output_type": "execute_result",
          "data": {
            "text/plain": [
              "            id       age  hypertension  heart_disease  avg_glucose_level  \\\n",
              "0    -1.298312  1.051434     -0.328602       4.185032           2.706375   \n",
              "1     0.716371  0.786070     -0.328602      -0.238947           2.121559   \n",
              "2    -0.255478  1.626390     -0.328602       4.185032          -0.005028   \n",
              "3     1.118363  0.255342     -0.328602      -0.238947           1.437358   \n",
              "4    -1.647136  1.582163      3.043196      -0.238947           1.501184   \n",
              "...        ...       ...           ...            ...                ...   \n",
              "5105 -0.864089  1.626390      3.043196      -0.238947          -0.494658   \n",
              "5106  0.394863  1.670617     -0.328602      -0.238947           0.420775   \n",
              "5107 -0.793720 -0.363842     -0.328602      -0.238947          -0.511443   \n",
              "5108  0.048497  0.343796     -0.328602      -0.238947           1.328257   \n",
              "5109  0.385695  0.034205     -0.328602      -0.238947          -0.460867   \n",
              "\n",
              "               bmi  \n",
              "0     1.001234e+00  \n",
              "1     4.615554e-16  \n",
              "2     4.685773e-01  \n",
              "3     7.154182e-01  \n",
              "4    -6.357112e-01  \n",
              "...            ...  \n",
              "5105  4.615554e-16  \n",
              "5106  1.442949e+00  \n",
              "5107  2.217363e-01  \n",
              "5108 -4.278451e-01  \n",
              "5109 -3.498953e-01  \n",
              "\n",
              "[5110 rows x 6 columns]"
            ],
            "text/html": [
              "\n",
              "  <div id=\"df-f54c8cb0-944c-48c9-82e6-f07cd5a59b4f\" class=\"colab-df-container\">\n",
              "    <div>\n",
              "<style scoped>\n",
              "    .dataframe tbody tr th:only-of-type {\n",
              "        vertical-align: middle;\n",
              "    }\n",
              "\n",
              "    .dataframe tbody tr th {\n",
              "        vertical-align: top;\n",
              "    }\n",
              "\n",
              "    .dataframe thead th {\n",
              "        text-align: right;\n",
              "    }\n",
              "</style>\n",
              "<table border=\"1\" class=\"dataframe\">\n",
              "  <thead>\n",
              "    <tr style=\"text-align: right;\">\n",
              "      <th></th>\n",
              "      <th>id</th>\n",
              "      <th>age</th>\n",
              "      <th>hypertension</th>\n",
              "      <th>heart_disease</th>\n",
              "      <th>avg_glucose_level</th>\n",
              "      <th>bmi</th>\n",
              "    </tr>\n",
              "  </thead>\n",
              "  <tbody>\n",
              "    <tr>\n",
              "      <th>0</th>\n",
              "      <td>-1.298312</td>\n",
              "      <td>1.051434</td>\n",
              "      <td>-0.328602</td>\n",
              "      <td>4.185032</td>\n",
              "      <td>2.706375</td>\n",
              "      <td>1.001234e+00</td>\n",
              "    </tr>\n",
              "    <tr>\n",
              "      <th>1</th>\n",
              "      <td>0.716371</td>\n",
              "      <td>0.786070</td>\n",
              "      <td>-0.328602</td>\n",
              "      <td>-0.238947</td>\n",
              "      <td>2.121559</td>\n",
              "      <td>4.615554e-16</td>\n",
              "    </tr>\n",
              "    <tr>\n",
              "      <th>2</th>\n",
              "      <td>-0.255478</td>\n",
              "      <td>1.626390</td>\n",
              "      <td>-0.328602</td>\n",
              "      <td>4.185032</td>\n",
              "      <td>-0.005028</td>\n",
              "      <td>4.685773e-01</td>\n",
              "    </tr>\n",
              "    <tr>\n",
              "      <th>3</th>\n",
              "      <td>1.118363</td>\n",
              "      <td>0.255342</td>\n",
              "      <td>-0.328602</td>\n",
              "      <td>-0.238947</td>\n",
              "      <td>1.437358</td>\n",
              "      <td>7.154182e-01</td>\n",
              "    </tr>\n",
              "    <tr>\n",
              "      <th>4</th>\n",
              "      <td>-1.647136</td>\n",
              "      <td>1.582163</td>\n",
              "      <td>3.043196</td>\n",
              "      <td>-0.238947</td>\n",
              "      <td>1.501184</td>\n",
              "      <td>-6.357112e-01</td>\n",
              "    </tr>\n",
              "    <tr>\n",
              "      <th>...</th>\n",
              "      <td>...</td>\n",
              "      <td>...</td>\n",
              "      <td>...</td>\n",
              "      <td>...</td>\n",
              "      <td>...</td>\n",
              "      <td>...</td>\n",
              "    </tr>\n",
              "    <tr>\n",
              "      <th>5105</th>\n",
              "      <td>-0.864089</td>\n",
              "      <td>1.626390</td>\n",
              "      <td>3.043196</td>\n",
              "      <td>-0.238947</td>\n",
              "      <td>-0.494658</td>\n",
              "      <td>4.615554e-16</td>\n",
              "    </tr>\n",
              "    <tr>\n",
              "      <th>5106</th>\n",
              "      <td>0.394863</td>\n",
              "      <td>1.670617</td>\n",
              "      <td>-0.328602</td>\n",
              "      <td>-0.238947</td>\n",
              "      <td>0.420775</td>\n",
              "      <td>1.442949e+00</td>\n",
              "    </tr>\n",
              "    <tr>\n",
              "      <th>5107</th>\n",
              "      <td>-0.793720</td>\n",
              "      <td>-0.363842</td>\n",
              "      <td>-0.328602</td>\n",
              "      <td>-0.238947</td>\n",
              "      <td>-0.511443</td>\n",
              "      <td>2.217363e-01</td>\n",
              "    </tr>\n",
              "    <tr>\n",
              "      <th>5108</th>\n",
              "      <td>0.048497</td>\n",
              "      <td>0.343796</td>\n",
              "      <td>-0.328602</td>\n",
              "      <td>-0.238947</td>\n",
              "      <td>1.328257</td>\n",
              "      <td>-4.278451e-01</td>\n",
              "    </tr>\n",
              "    <tr>\n",
              "      <th>5109</th>\n",
              "      <td>0.385695</td>\n",
              "      <td>0.034205</td>\n",
              "      <td>-0.328602</td>\n",
              "      <td>-0.238947</td>\n",
              "      <td>-0.460867</td>\n",
              "      <td>-3.498953e-01</td>\n",
              "    </tr>\n",
              "  </tbody>\n",
              "</table>\n",
              "<p>5110 rows × 6 columns</p>\n",
              "</div>\n",
              "    <div class=\"colab-df-buttons\">\n",
              "\n",
              "  <div class=\"colab-df-container\">\n",
              "    <button class=\"colab-df-convert\" onclick=\"convertToInteractive('df-f54c8cb0-944c-48c9-82e6-f07cd5a59b4f')\"\n",
              "            title=\"Convert this dataframe to an interactive table.\"\n",
              "            style=\"display:none;\">\n",
              "\n",
              "  <svg xmlns=\"http://www.w3.org/2000/svg\" height=\"24px\" viewBox=\"0 -960 960 960\">\n",
              "    <path d=\"M120-120v-720h720v720H120Zm60-500h600v-160H180v160Zm220 220h160v-160H400v160Zm0 220h160v-160H400v160ZM180-400h160v-160H180v160Zm440 0h160v-160H620v160ZM180-180h160v-160H180v160Zm440 0h160v-160H620v160Z\"/>\n",
              "  </svg>\n",
              "    </button>\n",
              "\n",
              "  <style>\n",
              "    .colab-df-container {\n",
              "      display:flex;\n",
              "      gap: 12px;\n",
              "    }\n",
              "\n",
              "    .colab-df-convert {\n",
              "      background-color: #E8F0FE;\n",
              "      border: none;\n",
              "      border-radius: 50%;\n",
              "      cursor: pointer;\n",
              "      display: none;\n",
              "      fill: #1967D2;\n",
              "      height: 32px;\n",
              "      padding: 0 0 0 0;\n",
              "      width: 32px;\n",
              "    }\n",
              "\n",
              "    .colab-df-convert:hover {\n",
              "      background-color: #E2EBFA;\n",
              "      box-shadow: 0px 1px 2px rgba(60, 64, 67, 0.3), 0px 1px 3px 1px rgba(60, 64, 67, 0.15);\n",
              "      fill: #174EA6;\n",
              "    }\n",
              "\n",
              "    .colab-df-buttons div {\n",
              "      margin-bottom: 4px;\n",
              "    }\n",
              "\n",
              "    [theme=dark] .colab-df-convert {\n",
              "      background-color: #3B4455;\n",
              "      fill: #D2E3FC;\n",
              "    }\n",
              "\n",
              "    [theme=dark] .colab-df-convert:hover {\n",
              "      background-color: #434B5C;\n",
              "      box-shadow: 0px 1px 3px 1px rgba(0, 0, 0, 0.15);\n",
              "      filter: drop-shadow(0px 1px 2px rgba(0, 0, 0, 0.3));\n",
              "      fill: #FFFFFF;\n",
              "    }\n",
              "  </style>\n",
              "\n",
              "    <script>\n",
              "      const buttonEl =\n",
              "        document.querySelector('#df-f54c8cb0-944c-48c9-82e6-f07cd5a59b4f button.colab-df-convert');\n",
              "      buttonEl.style.display =\n",
              "        google.colab.kernel.accessAllowed ? 'block' : 'none';\n",
              "\n",
              "      async function convertToInteractive(key) {\n",
              "        const element = document.querySelector('#df-f54c8cb0-944c-48c9-82e6-f07cd5a59b4f');\n",
              "        const dataTable =\n",
              "          await google.colab.kernel.invokeFunction('convertToInteractive',\n",
              "                                                    [key], {});\n",
              "        if (!dataTable) return;\n",
              "\n",
              "        const docLinkHtml = 'Like what you see? Visit the ' +\n",
              "          '<a target=\"_blank\" href=https://colab.research.google.com/notebooks/data_table.ipynb>data table notebook</a>'\n",
              "          + ' to learn more about interactive tables.';\n",
              "        element.innerHTML = '';\n",
              "        dataTable['output_type'] = 'display_data';\n",
              "        await google.colab.output.renderOutput(dataTable, element);\n",
              "        const docLink = document.createElement('div');\n",
              "        docLink.innerHTML = docLinkHtml;\n",
              "        element.appendChild(docLink);\n",
              "      }\n",
              "    </script>\n",
              "  </div>\n",
              "\n",
              "\n",
              "<div id=\"df-f8083270-48d5-4cab-8d84-97e8b275fd22\">\n",
              "  <button class=\"colab-df-quickchart\" onclick=\"quickchart('df-f8083270-48d5-4cab-8d84-97e8b275fd22')\"\n",
              "            title=\"Suggest charts\"\n",
              "            style=\"display:none;\">\n",
              "\n",
              "<svg xmlns=\"http://www.w3.org/2000/svg\" height=\"24px\"viewBox=\"0 0 24 24\"\n",
              "     width=\"24px\">\n",
              "    <g>\n",
              "        <path d=\"M19 3H5c-1.1 0-2 .9-2 2v14c0 1.1.9 2 2 2h14c1.1 0 2-.9 2-2V5c0-1.1-.9-2-2-2zM9 17H7v-7h2v7zm4 0h-2V7h2v10zm4 0h-2v-4h2v4z\"/>\n",
              "    </g>\n",
              "</svg>\n",
              "  </button>\n",
              "\n",
              "<style>\n",
              "  .colab-df-quickchart {\n",
              "      --bg-color: #E8F0FE;\n",
              "      --fill-color: #1967D2;\n",
              "      --hover-bg-color: #E2EBFA;\n",
              "      --hover-fill-color: #174EA6;\n",
              "      --disabled-fill-color: #AAA;\n",
              "      --disabled-bg-color: #DDD;\n",
              "  }\n",
              "\n",
              "  [theme=dark] .colab-df-quickchart {\n",
              "      --bg-color: #3B4455;\n",
              "      --fill-color: #D2E3FC;\n",
              "      --hover-bg-color: #434B5C;\n",
              "      --hover-fill-color: #FFFFFF;\n",
              "      --disabled-bg-color: #3B4455;\n",
              "      --disabled-fill-color: #666;\n",
              "  }\n",
              "\n",
              "  .colab-df-quickchart {\n",
              "    background-color: var(--bg-color);\n",
              "    border: none;\n",
              "    border-radius: 50%;\n",
              "    cursor: pointer;\n",
              "    display: none;\n",
              "    fill: var(--fill-color);\n",
              "    height: 32px;\n",
              "    padding: 0;\n",
              "    width: 32px;\n",
              "  }\n",
              "\n",
              "  .colab-df-quickchart:hover {\n",
              "    background-color: var(--hover-bg-color);\n",
              "    box-shadow: 0 1px 2px rgba(60, 64, 67, 0.3), 0 1px 3px 1px rgba(60, 64, 67, 0.15);\n",
              "    fill: var(--button-hover-fill-color);\n",
              "  }\n",
              "\n",
              "  .colab-df-quickchart-complete:disabled,\n",
              "  .colab-df-quickchart-complete:disabled:hover {\n",
              "    background-color: var(--disabled-bg-color);\n",
              "    fill: var(--disabled-fill-color);\n",
              "    box-shadow: none;\n",
              "  }\n",
              "\n",
              "  .colab-df-spinner {\n",
              "    border: 2px solid var(--fill-color);\n",
              "    border-color: transparent;\n",
              "    border-bottom-color: var(--fill-color);\n",
              "    animation:\n",
              "      spin 1s steps(1) infinite;\n",
              "  }\n",
              "\n",
              "  @keyframes spin {\n",
              "    0% {\n",
              "      border-color: transparent;\n",
              "      border-bottom-color: var(--fill-color);\n",
              "      border-left-color: var(--fill-color);\n",
              "    }\n",
              "    20% {\n",
              "      border-color: transparent;\n",
              "      border-left-color: var(--fill-color);\n",
              "      border-top-color: var(--fill-color);\n",
              "    }\n",
              "    30% {\n",
              "      border-color: transparent;\n",
              "      border-left-color: var(--fill-color);\n",
              "      border-top-color: var(--fill-color);\n",
              "      border-right-color: var(--fill-color);\n",
              "    }\n",
              "    40% {\n",
              "      border-color: transparent;\n",
              "      border-right-color: var(--fill-color);\n",
              "      border-top-color: var(--fill-color);\n",
              "    }\n",
              "    60% {\n",
              "      border-color: transparent;\n",
              "      border-right-color: var(--fill-color);\n",
              "    }\n",
              "    80% {\n",
              "      border-color: transparent;\n",
              "      border-right-color: var(--fill-color);\n",
              "      border-bottom-color: var(--fill-color);\n",
              "    }\n",
              "    90% {\n",
              "      border-color: transparent;\n",
              "      border-bottom-color: var(--fill-color);\n",
              "    }\n",
              "  }\n",
              "</style>\n",
              "\n",
              "  <script>\n",
              "    async function quickchart(key) {\n",
              "      const quickchartButtonEl =\n",
              "        document.querySelector('#' + key + ' button');\n",
              "      quickchartButtonEl.disabled = true;  // To prevent multiple clicks.\n",
              "      quickchartButtonEl.classList.add('colab-df-spinner');\n",
              "      try {\n",
              "        const charts = await google.colab.kernel.invokeFunction(\n",
              "            'suggestCharts', [key], {});\n",
              "      } catch (error) {\n",
              "        console.error('Error during call to suggestCharts:', error);\n",
              "      }\n",
              "      quickchartButtonEl.classList.remove('colab-df-spinner');\n",
              "      quickchartButtonEl.classList.add('colab-df-quickchart-complete');\n",
              "    }\n",
              "    (() => {\n",
              "      let quickchartButtonEl =\n",
              "        document.querySelector('#df-f8083270-48d5-4cab-8d84-97e8b275fd22 button');\n",
              "      quickchartButtonEl.style.display =\n",
              "        google.colab.kernel.accessAllowed ? 'block' : 'none';\n",
              "    })();\n",
              "  </script>\n",
              "</div>\n",
              "\n",
              "  <div id=\"id_919e92f1-3216-4a57-be77-e5827d4af6ce\">\n",
              "    <style>\n",
              "      .colab-df-generate {\n",
              "        background-color: #E8F0FE;\n",
              "        border: none;\n",
              "        border-radius: 50%;\n",
              "        cursor: pointer;\n",
              "        display: none;\n",
              "        fill: #1967D2;\n",
              "        height: 32px;\n",
              "        padding: 0 0 0 0;\n",
              "        width: 32px;\n",
              "      }\n",
              "\n",
              "      .colab-df-generate:hover {\n",
              "        background-color: #E2EBFA;\n",
              "        box-shadow: 0px 1px 2px rgba(60, 64, 67, 0.3), 0px 1px 3px 1px rgba(60, 64, 67, 0.15);\n",
              "        fill: #174EA6;\n",
              "      }\n",
              "\n",
              "      [theme=dark] .colab-df-generate {\n",
              "        background-color: #3B4455;\n",
              "        fill: #D2E3FC;\n",
              "      }\n",
              "\n",
              "      [theme=dark] .colab-df-generate:hover {\n",
              "        background-color: #434B5C;\n",
              "        box-shadow: 0px 1px 3px 1px rgba(0, 0, 0, 0.15);\n",
              "        filter: drop-shadow(0px 1px 2px rgba(0, 0, 0, 0.3));\n",
              "        fill: #FFFFFF;\n",
              "      }\n",
              "    </style>\n",
              "    <button class=\"colab-df-generate\" onclick=\"generateWithVariable('X')\"\n",
              "            title=\"Generate code using this dataframe.\"\n",
              "            style=\"display:none;\">\n",
              "\n",
              "  <svg xmlns=\"http://www.w3.org/2000/svg\" height=\"24px\"viewBox=\"0 0 24 24\"\n",
              "       width=\"24px\">\n",
              "    <path d=\"M7,19H8.4L18.45,9,17,7.55,7,17.6ZM5,21V16.75L18.45,3.32a2,2,0,0,1,2.83,0l1.4,1.43a1.91,1.91,0,0,1,.58,1.4,1.91,1.91,0,0,1-.58,1.4L9.25,21ZM18.45,9,17,7.55Zm-12,3A5.31,5.31,0,0,0,4.9,8.1,5.31,5.31,0,0,0,1,6.5,5.31,5.31,0,0,0,4.9,4.9,5.31,5.31,0,0,0,6.5,1,5.31,5.31,0,0,0,8.1,4.9,5.31,5.31,0,0,0,12,6.5,5.46,5.46,0,0,0,6.5,12Z\"/>\n",
              "  </svg>\n",
              "    </button>\n",
              "    <script>\n",
              "      (() => {\n",
              "      const buttonEl =\n",
              "        document.querySelector('#id_919e92f1-3216-4a57-be77-e5827d4af6ce button.colab-df-generate');\n",
              "      buttonEl.style.display =\n",
              "        google.colab.kernel.accessAllowed ? 'block' : 'none';\n",
              "\n",
              "      buttonEl.onclick = () => {\n",
              "        google.colab.notebook.generateWithVariable('X');\n",
              "      }\n",
              "      })();\n",
              "    </script>\n",
              "  </div>\n",
              "\n",
              "    </div>\n",
              "  </div>\n"
            ],
            "application/vnd.google.colaboratory.intrinsic+json": {
              "type": "dataframe",
              "variable_name": "X",
              "summary": "{\n  \"name\": \"X\",\n  \"rows\": 5110,\n  \"fields\": [\n    {\n      \"column\": \"id\",\n      \"properties\": {\n        \"dtype\": \"number\",\n        \"std\": 1.0000978617216225,\n        \"min\": -1.7226574066806497,\n        \"max\": 1.7213030030308163,\n        \"num_unique_values\": 5110,\n        \"samples\": [\n          0.16650419525430762,\n          0.8849943096841159,\n          1.6292409927098754\n        ],\n        \"semantic_type\": \"\",\n        \"description\": \"\"\n      }\n    },\n    {\n      \"column\": \"age\",\n      \"properties\": {\n        \"dtype\": \"number\",\n        \"std\": 1.0000978617216227,\n        \"min\": -1.908261222658104,\n        \"max\": 1.714844813332484,\n        \"num_unique_values\": 104,\n        \"samples\": [\n          0.07843217500665706,\n          -0.8503425656647583,\n          -0.4522962482341517\n        ],\n        \"semantic_type\": \"\",\n        \"description\": \"\"\n      }\n    },\n    {\n      \"column\": \"hypertension\",\n      \"properties\": {\n        \"dtype\": \"number\",\n        \"std\": 1.000097861721595,\n        \"min\": -0.3286018635605597,\n        \"max\": 3.0431963749825326,\n        \"num_unique_values\": 2,\n        \"samples\": [\n          3.0431963749825326,\n          -0.3286018635605597\n        ],\n        \"semantic_type\": \"\",\n        \"description\": \"\"\n      }\n    },\n    {\n      \"column\": \"heart_disease\",\n      \"properties\": {\n        \"dtype\": \"number\",\n        \"std\": 1.0000978617216452,\n        \"min\": -0.23894679956929837,\n        \"max\": 4.185031989557928,\n        \"num_unique_values\": 2,\n        \"samples\": [\n          -0.23894679956929837,\n          4.185031989557928\n        ],\n        \"semantic_type\": \"\",\n        \"description\": \"\"\n      }\n    },\n    {\n      \"column\": \"avg_glucose_level\",\n      \"properties\": {\n        \"dtype\": \"number\",\n        \"std\": 1.0000978617216212,\n        \"min\": -1.1269580083887039,\n        \"max\": 3.657144612645025,\n        \"num_unique_values\": 3979,\n        \"samples\": [\n          1.5932798266806543,\n          1.1162388488654549\n        ],\n        \"semantic_type\": \"\",\n        \"description\": \"\"\n      }\n    },\n    {\n      \"column\": \"bmi\",\n      \"properties\": {\n        \"dtype\": \"number\",\n        \"std\": 1.000097861721625,\n        \"min\": -2.415564226558994,\n        \"max\": 8.926127270139396,\n        \"num_unique_values\": 419,\n        \"samples\": [\n          0.9622591287005494,\n          -1.4931586180073497\n        ],\n        \"semantic_type\": \"\",\n        \"description\": \"\"\n      }\n    }\n  ]\n}"
            }
          },
          "metadata": {},
          "execution_count": 47
        }
      ]
    },
    {
      "cell_type": "code",
      "source": [
        "X, y = X.to_numpy(), y.to_numpy()"
      ],
      "metadata": {
        "id": "IIWKCl09f9nW"
      },
      "execution_count": null,
      "outputs": []
    },
    {
      "cell_type": "code",
      "source": [
        "from sklearn.model_selection import train_test_split\n",
        "\n",
        "X_train, X_test, y_train, y_test = train_test_split(X,y ,\n",
        "                                   random_state=104,\n",
        "                                   test_size=0.25,\n",
        "                                   shuffle=True)"
      ],
      "metadata": {
        "id": "pnxSw6URfuZk"
      },
      "execution_count": null,
      "outputs": []
    },
    {
      "cell_type": "code",
      "source": [
        "model = LogisticRegression(X_train, y_train)\n"
      ],
      "metadata": {
        "id": "qK8Se_mHgSre"
      },
      "execution_count": null,
      "outputs": []
    },
    {
      "cell_type": "code",
      "source": [
        "uniques, counts = np.unique(y, return_counts=True)\n",
        "percentages = dict(zip(uniques, counts * 100 / len(y)))"
      ],
      "metadata": {
        "id": "z0Sx6u_ck1rs"
      },
      "execution_count": null,
      "outputs": []
    },
    {
      "cell_type": "code",
      "source": [
        "percentages"
      ],
      "metadata": {
        "colab": {
          "base_uri": "https://localhost:8080/"
        },
        "id": "AhcgHnlklQMq",
        "outputId": "eb48e34b-d3c0-4cfd-c400-9558ce9017ab"
      },
      "execution_count": null,
      "outputs": [
        {
          "output_type": "execute_result",
          "data": {
            "text/plain": [
              "{np.int64(0): np.float64(95.12720156555773),\n",
              " np.int64(1): np.float64(4.87279843444227)}"
            ]
          },
          "metadata": {},
          "execution_count": 90
        }
      ]
    },
    {
      "cell_type": "code",
      "source": [
        "model.train()"
      ],
      "metadata": {
        "colab": {
          "base_uri": "https://localhost:8080/"
        },
        "id": "So9utEumgg1W",
        "outputId": "62529ba5-8756-4c9b-cba5-ac6964439bca"
      },
      "execution_count": null,
      "outputs": [
        {
          "output_type": "stream",
          "name": "stdout",
          "text": [
            "[Epoch 1] : loss = -63042.118385910995\n",
            "[Epoch 2] : loss = -59918.79532856278\n",
            "[Epoch 3] : loss = -56760.628473459474\n",
            "[Epoch 4] : loss = -53790.748735083616\n",
            "[Epoch 5] : loss = -50933.967460661996\n",
            "[Epoch 6] : loss = -48384.22100917863\n",
            "[Epoch 7] : loss = -45811.161390781555\n",
            "[Epoch 8] : loss = -43321.32274046149\n",
            "[Epoch 9] : loss = -41123.938667039496\n",
            "[Epoch 10] : loss = -38920.59747865657\n",
            "[Epoch 11] : loss = -36912.43057683033\n",
            "[Epoch 12] : loss = -34904.86603557671\n",
            "[Epoch 13] : loss = -33217.73454719173\n",
            "[Epoch 14] : loss = -31508.253915980116\n",
            "[Epoch 15] : loss = -29997.791144697712\n",
            "[Epoch 16] : loss = -28543.128431005127\n",
            "[Epoch 17] : loss = -27195.807884996288\n",
            "[Epoch 18] : loss = -25859.535125291062\n",
            "[Epoch 19] : loss = -24761.836068890432\n",
            "[Epoch 20] : loss = -23741.224006797256\n",
            "[Epoch 21] : loss = -22708.455161700764\n",
            "[Epoch 22] : loss = -21849.764745784712\n",
            "[Epoch 23] : loss = -20960.904272235806\n",
            "[Epoch 24] : loss = -20224.72231136164\n",
            "[Epoch 25] : loss = -19516.816541965054\n",
            "[Epoch 26] : loss = -18860.26772356258\n",
            "[Epoch 27] : loss = -18241.651299091314\n",
            "[Epoch 28] : loss = -17728.27440754156\n",
            "[Epoch 29] : loss = -17223.360461457603\n",
            "[Epoch 30] : loss = -16799.36462451757\n",
            "[Epoch 31] : loss = -16311.958855397153\n",
            "[Epoch 32] : loss = -15962.435082233444\n",
            "[Epoch 33] : loss = -15611.646944911396\n",
            "[Epoch 34] : loss = -15221.924059710633\n",
            "[Epoch 35] : loss = -14908.832319699508\n",
            "[Epoch 36] : loss = -14625.364654552503\n",
            "[Epoch 37] : loss = -14346.016157716023\n",
            "[Epoch 38] : loss = -14134.52680802862\n",
            "[Epoch 39] : loss = -13906.957786372168\n",
            "[Epoch 40] : loss = -13690.746582607928\n",
            "[Epoch 41] : loss = -13447.2396557367\n",
            "[Epoch 42] : loss = -13261.163476553184\n",
            "[Epoch 43] : loss = -13053.055572251138\n",
            "[Epoch 44] : loss = -12952.223300880707\n",
            "[Epoch 45] : loss = -12692.83454333361\n",
            "[Epoch 46] : loss = -12559.14623955339\n",
            "[Epoch 47] : loss = -12523.2804935257\n",
            "[Epoch 48] : loss = -12322.173599431762\n",
            "[Epoch 49] : loss = -12220.211334598664\n",
            "[Epoch 50] : loss = -12085.280764179199\n"
          ]
        }
      ]
    },
    {
      "cell_type": "code",
      "source": [
        "output = model.predict(X_test)\n"
      ],
      "metadata": {
        "id": "KuP4YK5NiJUm"
      },
      "execution_count": null,
      "outputs": []
    },
    {
      "cell_type": "code",
      "source": [
        "acc = np.mean(output == y_test)\n",
        "acc"
      ],
      "metadata": {
        "colab": {
          "base_uri": "https://localhost:8080/"
        },
        "id": "mYJq1bxXgzPA",
        "outputId": "ca5284b5-f02c-4562-dcd8-a2ff947fed5b"
      },
      "execution_count": null,
      "outputs": [
        {
          "output_type": "execute_result",
          "data": {
            "text/plain": [
              "np.float64(0.9523426421859272)"
            ]
          },
          "metadata": {},
          "execution_count": 104
        }
      ]
    },
    {
      "cell_type": "code",
      "source": [
        "output"
      ],
      "metadata": {
        "colab": {
          "base_uri": "https://localhost:8080/"
        },
        "id": "xJQkYA-Yjd6i",
        "outputId": "8c29f32d-6362-4aef-fa0c-9e8baa0d67db"
      },
      "execution_count": null,
      "outputs": [
        {
          "output_type": "execute_result",
          "data": {
            "text/plain": [
              "array([[0.],\n",
              "       [0.],\n",
              "       [0.],\n",
              "       ...,\n",
              "       [0.],\n",
              "       [0.],\n",
              "       [0.]])"
            ]
          },
          "metadata": {},
          "execution_count": 96
        }
      ]
    },
    {
      "cell_type": "code",
      "source": [
        "from sklearn.metrics import classification_report\n",
        "# y_true = [1, 0, 1, 1, 0]\n",
        "# y_pred = [1, 0, 1, 0, 0]\n",
        "\n",
        "accuracy = classification_report(y_test, output)\n",
        "print(\"Accuracy Score:\", accuracy)"
      ],
      "metadata": {
        "colab": {
          "base_uri": "https://localhost:8080/"
        },
        "id": "uq1c5B-tnFwQ",
        "outputId": "9265e1ae-fd31-442a-bf23-ba4fc57da50f"
      },
      "execution_count": null,
      "outputs": [
        {
          "output_type": "stream",
          "name": "stdout",
          "text": [
            "Accuracy Score:               precision    recall  f1-score   support\n",
            "\n",
            "           0       0.95      1.00      0.98      1218\n",
            "           1       0.00      0.00      0.00        60\n",
            "\n",
            "    accuracy                           0.95      1278\n",
            "   macro avg       0.48      0.50      0.49      1278\n",
            "weighted avg       0.91      0.95      0.93      1278\n",
            "\n"
          ]
        }
      ]
    },
    {
      "cell_type": "code",
      "source": [
        "display(accuracy)"
      ],
      "metadata": {
        "colab": {
          "base_uri": "https://localhost:8080/",
          "height": 53
        },
        "id": "sFpRASUOjcHo",
        "outputId": "bb0f175b-098c-4e2f-e24d-2a2e854fe1f9"
      },
      "execution_count": null,
      "outputs": [
        {
          "output_type": "display_data",
          "data": {
            "text/plain": [
              "'              precision    recall  f1-score   support\\n\\n           0       0.95      1.00      0.98      1218\\n           1       0.00      0.00      0.00        60\\n\\n    accuracy                           0.95      1278\\n   macro avg       0.48      0.50      0.49      1278\\nweighted avg       0.91      0.95      0.93      1278\\n'"
            ],
            "application/vnd.google.colaboratory.intrinsic+json": {
              "type": "string"
            }
          },
          "metadata": {}
        }
      ]
    },
    {
      "cell_type": "code",
      "source": [
        "# import the class\n",
        "from sklearn.linear_model import LogisticRegression\n",
        "\n",
        "# instantiate the model (using the default parameters)\n",
        "logreg = LogisticRegression(random_state=16)\n",
        "\n",
        "# fit the model with data\n",
        "logreg.fit(X_train, y_train)\n",
        "\n",
        "y_pred = logreg.predict(X_test)"
      ],
      "metadata": {
        "id": "5aIHVEI6jcro"
      },
      "execution_count": null,
      "outputs": []
    },
    {
      "cell_type": "code",
      "source": [
        "np.mean(y_pred == y_test)"
      ],
      "metadata": {
        "colab": {
          "base_uri": "https://localhost:8080/"
        },
        "id": "9X2tHCHtoHJH",
        "outputId": "1c8a3c1c-e193-4de2-b854-c4b6c43d0e4b"
      },
      "execution_count": null,
      "outputs": [
        {
          "output_type": "execute_result",
          "data": {
            "text/plain": [
              "np.float64(0.9530516431924883)"
            ]
          },
          "metadata": {},
          "execution_count": 103
        }
      ]
    },
    {
      "cell_type": "code",
      "source": [],
      "metadata": {
        "id": "g0Ly0sLUoL6f"
      },
      "execution_count": null,
      "outputs": []
    }
  ]
}