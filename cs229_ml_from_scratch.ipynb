{
  "nbformat": 4,
  "nbformat_minor": 0,
  "metadata": {
    "colab": {
      "provenance": [],
      "authorship_tag": "ABX9TyMWJn4Yis9oHbSwncpBCrG6",
      "include_colab_link": true
    },
    "kernelspec": {
      "name": "python3",
      "display_name": "Python 3"
    },
    "language_info": {
      "name": "python"
    }
  },
  "cells": [
    {
      "cell_type": "markdown",
      "metadata": {
        "id": "view-in-github",
        "colab_type": "text"
      },
      "source": [
        "<a href=\"https://colab.research.google.com/github/notnsas/cs229-ml-from-scratch/blob/version-1/cs229_ml_from_scratch.ipynb\" target=\"_parent\"><img src=\"https://colab.research.google.com/assets/colab-badge.svg\" alt=\"Open In Colab\"/></a>"
      ]
    },
    {
      "cell_type": "markdown",
      "source": [
        "# **CS229 ML IMPLEMENTATION**"
      ],
      "metadata": {
        "id": "PIknFBoaailq"
      }
    },
    {
      "cell_type": "markdown",
      "source": [
        "## **Linear Regression**"
      ],
      "metadata": {
        "id": "AU-00q50aoEU"
      }
    },
    {
      "cell_type": "code",
      "source": [
        "# Model Linear Regressi\n",
        "class LinearRegression:\n",
        "  def __init__(self, X, y=None, lr=0.01):\n",
        "    # Params untuk menyimpan parameter dan gradientnya\n",
        "    self.params = {}\n",
        "\n",
        "    # inisiasi parameter\n",
        "    # Menambah col baru dengan semua isinya bernilai 1 ke x\n",
        "    # yang digunakan agar kita memiliki intercept di rumus linear regresi\n",
        "    # yang menggunakan vector form\n",
        "    self.X = np.concatenate((np.ones([np.shape(X)[0], 1]), X),axis=1)\n",
        "    self.y = y\n",
        "    # learning rate sebagai konstanta belajar seberapa cepat mengupdate gradient\n",
        "    self.lr = lr\n",
        "    # Inisiasi parameter linear regresi dengan menggunakan nilai random\n",
        "    self.params['W'] = np.random.rand(1, self.X.shape[1])\n",
        "\n",
        "  def predict(self, X, mode=\"test\"):\n",
        "    \"\"\"Untuk Prediksi y Berdasarkan input X menggunakan model linear regresi\"\"\"\n",
        "    if mode == \"test\":\n",
        "      # Menambah col baru dengan semua isinya bernilai 1 ke x\n",
        "      # yang digunakan agar kita memiliki intercept di rumus linear regresi\n",
        "      # yang menggunakan vector form\n",
        "      X = np.concatenate((np.ones([np.shape(X)[0], 1]), X),axis=1)\n",
        "    # Memprediksi y berdasarkan X menggunakan model yang sudah dibuat\n",
        "    output = np.dot(X, self.params[\"W\"].T)\n",
        "    return output\n",
        "\n",
        "  def loss(self, output, y):\n",
        "    \"\"\"Menghitung loss\"\"\"\n",
        "    # Menghitung loss menggunakan mean squared error dan dikali 1/2 agar\n",
        "    # gradientnya nanti gampang dihitung\n",
        "    return 1/2 * np.mean(np.square(output - y))\n",
        "\n",
        "  def batch(self, batch_size):\n",
        "    \"\"\"Menggunakan mini-batch untuk menghitung loss, output, dan gradien\"\"\"\n",
        "    # Meninisiasi loss dan menshuffle X & y\n",
        "    loss = 0\n",
        "    # Menshuffle menggunakan fungsi np.random.permutation() sebagai index\n",
        "    # lalu menggunakan index tersebut untuk menshuffle X dan y\n",
        "    indices = np.random.permutation(len(self.y))\n",
        "    X_shuffle = self.X[indices]\n",
        "    y_shuffle = self.y[indices]\n",
        "\n",
        "    # Membagi data menjadi minibatch yg diitung loss nya\n",
        "    for i in range(0, len(self.y), batch_size):\n",
        "      end = min(i + batch_size, len(self.y))\n",
        "      # Membagi data per batch dengan banyak n (training example) sesuai\n",
        "      # dengan batch_size yang dipilih\n",
        "      X_batch = X_shuffle[i:end, :]\n",
        "      y_batch = y_shuffle[i:end]\n",
        "      # Kalulasi loss per batch\n",
        "      a = self.calculate(X_batch, y_batch, \"train\", \"gradient_descent\")[0]\n",
        "\n",
        "      # Melakukan running average dari loss sebelumnya agar mendapatkan rata\n",
        "      # rata loss dari mini batch\n",
        "      loss = loss + a * (end - i)\n",
        "    # Return total loss dari loss yang didapatkan menggunakan running average\n",
        "    # dan dibagi total training (n)\n",
        "    return loss / len(self.y)\n",
        "\n",
        "\n",
        "  def calculate(self, X, y, mode=\"test\", solver_type=\"least_square\"):\n",
        "    \"\"\"Untuk kalkulasi gradien output dan least square dari model\"\"\"\n",
        "    # Mendapatkan output dari linear regresi\n",
        "    output = self.predict(X, mode=mode)\n",
        "    # Bila modenya train\n",
        "    if mode == \"train\":\n",
        "      # Training menggunakan gradient descent\n",
        "      # Menghitung loss menggunakan output dan y\n",
        "      loss = self.loss(output, y)\n",
        "\n",
        "      # Menentukan solver type gradient descent atau metode least square\n",
        "      if solver_type == \"gradient_descent\":\n",
        "        # Menghitung gradient menggunakan rumus dibawah\n",
        "        self.params['dW'] = np.dot((y[:, np.newaxis] - output).T, X) / len(y)\n",
        "        # Update parameter berdasarkan gradient dikali konstanta belajar (lr/learning rate)\n",
        "        self.params['W'] += self.lr * self.params['dW']\n",
        "      # Bila menggunakan metode least square / metode kuadrat terkecil\n",
        "      else:\n",
        "        # Perhitungan menggunakan metode kuadrat terkecil agar mendapatkan\n",
        "        # Parameter optimal untuk model secara langsung agar meminimalkan\n",
        "        # loss function\n",
        "        a = np.linalg.inv(np.dot(X.T, X))\n",
        "        b = np.dot(X.T, y)\n",
        "        c = np.dot(a, b)\n",
        "\n",
        "        # Mengupdate parameter berdasarkan parameter optimal\n",
        "        self.params['W'] = c[:, np.newaxis].T\n",
        "\n",
        "    # Return output bila mode test\n",
        "    else:\n",
        "      return output\n",
        "\n",
        "    # Return loss serta output\n",
        "    return loss, output\n",
        "\n",
        "  def train(self, solver_type=\"least_square\", epoch=50, batch_size=216):\n",
        "    \"\"\"Untuk train model linear regresi\"\"\"\n",
        "    if solver_type == \"gradient_descent\":\n",
        "      # Bila solver type gradient descent update parameter dilakukan sampai\n",
        "      # epoch/iterasi tertentu\n",
        "      for i in range(epoch):\n",
        "        # Menghitung loss dari model yang di update parameternya\n",
        "        loss = self.batch(batch_size)\n",
        "        print(f\"[Epoch {i + 1}] : loss = {loss}\")\n",
        "    else:\n",
        "      # Menghitung loss yang sudah di update parameternya menggunakan least square/metode kuadrat terkecil\n",
        "      loss, _ = self.calculate(self.X, self.y, \"train\", \"least_square\")\n",
        "      print(f\"loss : {loss}\")"
      ],
      "metadata": {
        "id": "Yu4uvH-qaH6x"
      },
      "execution_count": 1,
      "outputs": []
    },
    {
      "cell_type": "code",
      "source": [
        "# Mengambil data untuk feature X dan label y yaitu 'carat' sebagai kolom yang akan di tebak, lalu menormalisasikanya\n",
        "X = numeric_data[:, 1:] / np.max(numeric_data[:, 1:],axis=0)\n",
        "y = numeric_data[:, 0]\n",
        "\n",
        "# Ngesplit data menjadi train dan testing\n",
        "X_train, y_train, X_test, y_test = X[:40000, :], y[:40000], X[40000:, :], y[40000:]\n",
        "\n",
        "# Membuat objek linear regresi dengan data tersebut\n",
        "model = LinearRegression(X_train, y_train, 0.1)"
      ],
      "metadata": {
        "id": "gCJ_G6XoQF3K",
        "colab": {
          "base_uri": "https://localhost:8080/",
          "height": 211
        },
        "outputId": "5a74e6b2-4a3b-4636-e0c6-7020a36d1a79"
      },
      "execution_count": 2,
      "outputs": [
        {
          "output_type": "error",
          "ename": "NameError",
          "evalue": "name 'numeric_data' is not defined",
          "traceback": [
            "\u001b[0;31m---------------------------------------------------------------------------\u001b[0m",
            "\u001b[0;31mNameError\u001b[0m                                 Traceback (most recent call last)",
            "\u001b[0;32m<ipython-input-2-733cec55292d>\u001b[0m in \u001b[0;36m<cell line: 0>\u001b[0;34m()\u001b[0m\n\u001b[1;32m      1\u001b[0m \u001b[0;31m# Mengambil data untuk feature X dan label y yaitu 'carat' sebagai kolom yang akan di tebak, lalu menormalisasikanya\u001b[0m\u001b[0;34m\u001b[0m\u001b[0;34m\u001b[0m\u001b[0m\n\u001b[0;32m----> 2\u001b[0;31m \u001b[0mX\u001b[0m \u001b[0;34m=\u001b[0m \u001b[0mnumeric_data\u001b[0m\u001b[0;34m[\u001b[0m\u001b[0;34m:\u001b[0m\u001b[0;34m,\u001b[0m \u001b[0;36m1\u001b[0m\u001b[0;34m:\u001b[0m\u001b[0;34m]\u001b[0m \u001b[0;34m/\u001b[0m \u001b[0mnp\u001b[0m\u001b[0;34m.\u001b[0m\u001b[0mmax\u001b[0m\u001b[0;34m(\u001b[0m\u001b[0mnumeric_data\u001b[0m\u001b[0;34m[\u001b[0m\u001b[0;34m:\u001b[0m\u001b[0;34m,\u001b[0m \u001b[0;36m1\u001b[0m\u001b[0;34m:\u001b[0m\u001b[0;34m]\u001b[0m\u001b[0;34m,\u001b[0m\u001b[0maxis\u001b[0m\u001b[0;34m=\u001b[0m\u001b[0;36m0\u001b[0m\u001b[0;34m)\u001b[0m\u001b[0;34m\u001b[0m\u001b[0;34m\u001b[0m\u001b[0m\n\u001b[0m\u001b[1;32m      3\u001b[0m \u001b[0my\u001b[0m \u001b[0;34m=\u001b[0m \u001b[0mnumeric_data\u001b[0m\u001b[0;34m[\u001b[0m\u001b[0;34m:\u001b[0m\u001b[0;34m,\u001b[0m \u001b[0;36m0\u001b[0m\u001b[0;34m]\u001b[0m\u001b[0;34m\u001b[0m\u001b[0;34m\u001b[0m\u001b[0m\n\u001b[1;32m      4\u001b[0m \u001b[0;34m\u001b[0m\u001b[0m\n\u001b[1;32m      5\u001b[0m \u001b[0;31m# Ngesplit data menjadi train dan testing\u001b[0m\u001b[0;34m\u001b[0m\u001b[0;34m\u001b[0m\u001b[0m\n",
            "\u001b[0;31mNameError\u001b[0m: name 'numeric_data' is not defined"
          ]
        }
      ]
    },
    {
      "cell_type": "code",
      "source": [
        "# Melatih model linear regresi dan melihat loss dari model tersebut ke data\n",
        "# Melatih menggunakan metode gradient descent (Karena datanya terlalu banyak)\n",
        "model.train(\"gradient_descent\", epoch=50, batch_size=512)"
      ],
      "metadata": {
        "id": "2IRqseW8QiP0"
      },
      "execution_count": null,
      "outputs": []
    },
    {
      "cell_type": "code",
      "source": [
        "# Melakukan Testing\n",
        "# Mendapatkan prediksi model berdasarkan X_test yaitu test data\n",
        "output = model.predict(X_test)\n",
        "print(f\"Hasil output atau prediksi y berdasarkan X adalah : \\n{output}\")\n",
        "print(f\"\\nLabel atau y yang asli sebagai perbandingan : \\n{y_test}\")\n",
        "\n",
        "# Menghitung seberapa bagus model menggunakan test data menggunakan Mean Squared Error\n",
        "mse = np.mean(np.square(output - y_test))\n",
        "print(f\"\\n\\nMean Squared Error dari Testing data Menggunakan Gradient Descent adalah = {mse}\")"
      ],
      "metadata": {
        "id": "lzQSihrQfmJg"
      },
      "execution_count": null,
      "outputs": []
    },
    {
      "cell_type": "markdown",
      "source": [
        "Menggunakan metode kuadrat terkecil sebagai metode optimasi"
      ],
      "metadata": {
        "id": "yelIQUi8ZWKt"
      }
    },
    {
      "cell_type": "code",
      "source": [
        "# Mengambil 15000 data pertama untuk feature X dan 5000 label y yaitu 'carat' sebagai kolom yang akan di tebak\n",
        "# Data hanya 15000 yang dipakai karena metode kuadrat terkecil tidak dapat dipakai untuk data yang banyak\n",
        "# Ngesplit data menjadi train dan testing\n",
        "X_train, y_train, X_test, y_test = X[:15000, :], y[:15000], X[15000:20000, :], y[15000:20000]\n",
        "\n",
        "# Membuat objek linear regresi dengan data tersebut\n",
        "model = LinearRegression(X_train, y_train, 0.1)"
      ],
      "metadata": {
        "id": "sMEUrEetZaMt"
      },
      "execution_count": null,
      "outputs": []
    },
    {
      "cell_type": "code",
      "source": [
        "# Melatih model linear regresi dan melihat loss dari model tersebut ke data\n",
        "# Melatih menggunakan metode kuadrat terkecil menggunakan 1000 data\n",
        "model.train(\"least_square\")"
      ],
      "metadata": {
        "id": "w2Rldw8pNGnD"
      },
      "execution_count": null,
      "outputs": []
    },
    {
      "cell_type": "code",
      "source": [
        "# Melakukan Testing\n",
        "# Mendapatkan prediksi model berdasarkan X_test yaitu test data\n",
        "output = model.predict(X_test)\n",
        "print(f\"Hasil output atau prediksi y berdasarkan X adalah : \\n{output}\")\n",
        "print(f\"\\nLabel atau y yang asli sebagai perbandingan : \\n{y_test}\")\n",
        "\n",
        "# Menghitung seberapa bagus model menggunakan test data menggunakan Mean Squared Error\n",
        "mse = np.mean(np.square(output - y_test))\n",
        "print(f\"\\n\\nMean Squared Error dari Testing data Menggunakan Metode Kuadrat Terkecil adalah = {mse}\")"
      ],
      "metadata": {
        "id": "-YeIZyqAbeKz"
      },
      "execution_count": null,
      "outputs": []
    },
    {
      "cell_type": "markdown",
      "source": [
        "## **Logistic Regression**"
      ],
      "metadata": {
        "id": "DHinBXAoauSY"
      }
    },
    {
      "cell_type": "code",
      "execution_count": null,
      "metadata": {
        "id": "eUHG_3bUx00b"
      },
      "outputs": [],
      "source": [
        "import numpy as np\n",
        "class LogisticRegression:\n",
        "  def __init__(self, X, y=None, lr=0.01):\n",
        "    # Params untuk menyimpan parameter dan gradientnya\n",
        "    self.params = {}\n",
        "\n",
        "    # inisiasi parameter\n",
        "    # Menambah col baru dengan semua isinya bernilai 1 ke x\n",
        "    # yang digunakan agar kita memiliki intercept di rumus linear regresi\n",
        "    # yang menggunakan vector form\n",
        "    self.X = np.concatenate((np.ones([np.shape(X)[0], 1]), X),axis=1)\n",
        "    self.y = y\n",
        "    # learning rate sebagai konstanta belajar seberapa cepat mengupdate gradient\n",
        "    self.lr = lr\n",
        "    # Inisiasi parameter linear regresi dengan menggunakan nilai random\n",
        "    self.params['W'] = np.random.rand(1, self.X.shape[1])\n",
        "\n",
        "  def predict(self, X, mode=\"test\"):\n",
        "    \"\"\"Untuk Prediksi y Berdasarkan input X menggunakan model linear regresi\"\"\"\n",
        "    if mode == \"test\":\n",
        "      # Menambah col baru dengan semua isinya bernilai 1 ke x\n",
        "      # yang digunakan agar kita memiliki intercept di rumus linear regresi\n",
        "      # yang menggunakan vector form\n",
        "      X = np.concatenate((np.ones([np.shape(X)[0], 1]), X),axis=1)\n",
        "      output = self.forward(X, mode)\n",
        "      output = self.sigmoid(output, mode)\n",
        "      return np.round(output)\n",
        "    # Memprediksi y berdasarkan X menggunakan model yang sudah dibuat\n",
        "    output = self.forward(X, mode)\n",
        "    output = self.sigmoid(output, mode)\n",
        "    return output\n",
        "\n",
        "  def forward(self, X, mode=\"test\"):\n",
        "    return np.dot(X, self.params[\"W\"].T)\n",
        "\n",
        "  def sigmoid(self, X, mode=\"test\"):\n",
        "    return 1 / (1 + np.exp(-X))\n",
        "\n",
        "  def loss(self, output, y):\n",
        "    \"\"\"Menghitung loss\"\"\"\n",
        "    # Menghitung loss menggunakan mean squared error dan dikali 1/2 agar\n",
        "    # gradientnya nanti gampang dihitung\n",
        "    # return 1/2 * np.mean(np.square(output - y))\n",
        "    loss = y * np.log(output) + (1 - y) * np.log((1 - output))\n",
        "    loss = np.sum(loss)\n",
        "    # print(loss)\n",
        "    return loss\n",
        "\n",
        "  def batch(self, batch_size):\n",
        "    \"\"\"Menggunakan mini-batch untuk menghitung loss, output, dan gradien\"\"\"\n",
        "    # Meninisiasi loss dan menshuffle X & y\n",
        "    loss = 0\n",
        "    # Menshuffle menggunakan fungsi np.random.permutation() sebagai index\n",
        "    # lalu menggunakan index tersebut untuk menshuffle X dan y\n",
        "    indices = np.random.permutation(len(self.y))\n",
        "    X_shuffle = self.X[indices]\n",
        "    y_shuffle = self.y[indices]\n",
        "\n",
        "    # Membagi data menjadi minibatch yg diitung loss nya\n",
        "    for i in range(0, len(self.y), batch_size):\n",
        "      end = min(i + batch_size, len(self.y))\n",
        "      # Membagi data per batch dengan banyak n (training example) sesuai\n",
        "      # dengan batch_size yang dipilih\n",
        "      X_batch = X_shuffle[i:end, :]\n",
        "      y_batch = y_shuffle[i:end]\n",
        "      # Kalulasi loss per batch\n",
        "      a = self.calculate(X_batch, y_batch, \"train\", \"gradient_descent\")[0]\n",
        "\n",
        "      # Melakukan running average dari loss sebelumnya agar mendapatkan rata\n",
        "      # rata loss dari mini batch\n",
        "      loss = loss + a * (end - i)\n",
        "    # Return total loss dari loss yang didapatkan menggunakan running average\n",
        "    # dan dibagi total training (n)\n",
        "    return loss / len(self.y)\n",
        "\n",
        "\n",
        "  def calculate(self, X, y, mode=\"test\", solver_type=\"gradient_descent\"):\n",
        "    \"\"\"Untuk kalkulasi gradien output dan least square dari model\"\"\"\n",
        "    # Mendapatkan output dari linear regresi\n",
        "    output = self.predict(X, mode=mode)\n",
        "    # Bila modenya train\n",
        "    if mode == \"train\":\n",
        "      # Training menggunakan gradient descent\n",
        "      # Menghitung loss menggunakan output dan y\n",
        "      loss = self.loss(output, y)\n",
        "\n",
        "      # Menentukan solver type gradient descent atau metode least square\n",
        "      if solver_type == \"gradient_descent\":\n",
        "        # Menghitung gradient menggunakan rumus dibawah\n",
        "        self.params['dW'] = np.dot((y[:, np.newaxis] - output).T, X) / len(y)\n",
        "        # Update parameter berdasarkan gradient dikali konstanta belajar (lr/learning rate)\n",
        "        self.params['W'] += self.lr * self.params['dW']\n",
        "      # Bila menggunakan metode least square / metode kuadrat terkecil\n",
        "      else:\n",
        "        # Perhitungan menggunakan metode kuadrat terkecil agar mendapatkan\n",
        "        # Parameter optimal untuk model secara langsung agar meminimalkan\n",
        "        # loss function\n",
        "        a = np.linalg.inv(np.dot(X.T, X))\n",
        "        b = np.dot(X.T, y)\n",
        "        c = np.dot(a, b)\n",
        "\n",
        "        # Mengupdate parameter berdasarkan parameter optimal\n",
        "        self.params['W'] = c[:, np.newaxis].T\n",
        "\n",
        "    # Return output bila mode test\n",
        "    else:\n",
        "      return output\n",
        "\n",
        "    # Return loss serta output\n",
        "    return loss, output\n",
        "\n",
        "  def train(self, solver_type=\"gradient_descent\", epoch=50, batch_size=216):\n",
        "    \"\"\"Untuk train model linear regresi\"\"\"\n",
        "    if solver_type == \"gradient_descent\":\n",
        "      # Bila solver type gradient descent update parameter dilakukan sampai\n",
        "      # epoch/iterasi tertentu\n",
        "      for i in range(epoch):\n",
        "        # Menghitung loss dari model yang di update parameternya\n",
        "        loss = self.batch(batch_size)\n",
        "        print(f\"[Epoch {i + 1}] : loss = {loss}\")\n",
        "    else:\n",
        "      # Menghitung loss yang sudah di update parameternya menggunakan least square/metode kuadrat terkecil\n",
        "      loss, _ = self.calculate(self.X, self.y, \"train\", \"least_square\")\n",
        "      print(f\"loss : {loss}\")\n"
      ]
    },
    {
      "cell_type": "code",
      "source": [
        "import kagglehub\n",
        "\n",
        "# Download latest version\n",
        "path = kagglehub.dataset_download(\"fedesoriano/stroke-prediction-dataset\")\n",
        "\n",
        "print(\"Path to dataset files:\", path)"
      ],
      "metadata": {
        "id": "-lS_9B-se1Dk"
      },
      "execution_count": null,
      "outputs": []
    },
    {
      "cell_type": "code",
      "source": [
        "from os import listdir\n",
        "from os.path import isfile, join\n",
        "\n",
        "mypath = '/root/.cache/kagglehub/datasets/fedesoriano/stroke-prediction-dataset/versions/1'\n",
        "onlyfiles = [f for f in listdir(mypath) if isfile(join(mypath, f))]"
      ],
      "metadata": {
        "id": "4Wbg2X7se-Tp"
      },
      "execution_count": null,
      "outputs": []
    },
    {
      "cell_type": "code",
      "source": [
        "onlyfiles"
      ],
      "metadata": {
        "id": "2iwxe2LmytfA"
      },
      "execution_count": null,
      "outputs": []
    },
    {
      "cell_type": "code",
      "source": [
        "import pandas as pd\n",
        "df = pd.read_csv(\"/root/.cache/kagglehub/datasets/fedesoriano/stroke-prediction-dataset/versions/1/healthcare-dataset-stroke-data.csv\")\n",
        "df = df.select_dtypes(include='number')\n",
        "df = df.fillna(df.mean())"
      ],
      "metadata": {
        "id": "RIb0ZLRBfdRV"
      },
      "execution_count": null,
      "outputs": []
    },
    {
      "cell_type": "code",
      "source": [
        "X = df[[i for i in df.select_dtypes(include='number').columns if i!= \"stroke\"]]\n",
        "y = df['stroke']\n"
      ],
      "metadata": {
        "id": "tZdYe56pfk5U"
      },
      "execution_count": null,
      "outputs": []
    },
    {
      "cell_type": "code",
      "source": [
        "from sklearn.preprocessing import StandardScaler\n",
        "\n",
        "# Initialize the scaler\n",
        "standard_scaler = StandardScaler()\n",
        "\n",
        "# Fit and transform the data\n",
        "X = pd.DataFrame(standard_scaler.fit_transform(X), columns=X.columns)\n",
        "X"
      ],
      "metadata": {
        "id": "UPvTCVywhaCQ"
      },
      "execution_count": null,
      "outputs": []
    },
    {
      "cell_type": "code",
      "source": [
        "X, y = X.to_numpy(), y.to_numpy()"
      ],
      "metadata": {
        "id": "IIWKCl09f9nW"
      },
      "execution_count": null,
      "outputs": []
    },
    {
      "cell_type": "code",
      "source": [
        "from sklearn.model_selection import train_test_split\n",
        "\n",
        "X_train, X_test, y_train, y_test = train_test_split(X,y ,\n",
        "                                   random_state=104,\n",
        "                                   test_size=0.25,\n",
        "                                   shuffle=True)"
      ],
      "metadata": {
        "id": "pnxSw6URfuZk"
      },
      "execution_count": null,
      "outputs": []
    },
    {
      "cell_type": "code",
      "source": [
        "model = LogisticRegression(X_train, y_train)\n"
      ],
      "metadata": {
        "id": "qK8Se_mHgSre"
      },
      "execution_count": null,
      "outputs": []
    },
    {
      "cell_type": "code",
      "source": [
        "uniques, counts = np.unique(y, return_counts=True)\n",
        "percentages = dict(zip(uniques, counts * 100 / len(y)))"
      ],
      "metadata": {
        "id": "z0Sx6u_ck1rs"
      },
      "execution_count": null,
      "outputs": []
    },
    {
      "cell_type": "code",
      "source": [
        "percentages"
      ],
      "metadata": {
        "id": "AhcgHnlklQMq"
      },
      "execution_count": null,
      "outputs": []
    },
    {
      "cell_type": "code",
      "source": [
        "model.train()"
      ],
      "metadata": {
        "id": "So9utEumgg1W"
      },
      "execution_count": null,
      "outputs": []
    },
    {
      "cell_type": "code",
      "source": [
        "output = model.predict(X_test)\n"
      ],
      "metadata": {
        "id": "KuP4YK5NiJUm"
      },
      "execution_count": null,
      "outputs": []
    },
    {
      "cell_type": "code",
      "source": [
        "acc = np.mean(output == y_test)\n",
        "acc"
      ],
      "metadata": {
        "id": "mYJq1bxXgzPA"
      },
      "execution_count": null,
      "outputs": []
    },
    {
      "cell_type": "code",
      "source": [
        "# import the class\n",
        "from sklearn.linear_model import LogisticRegression\n",
        "\n",
        "# instantiate the model (using the default parameters)\n",
        "logreg = LogisticRegression(random_state=16)\n",
        "\n",
        "# fit the model with data\n",
        "logreg.fit(X_train, y_train)\n",
        "\n",
        "y_pred = logreg.predict(X_test)"
      ],
      "metadata": {
        "id": "5aIHVEI6jcro"
      },
      "execution_count": null,
      "outputs": []
    },
    {
      "cell_type": "code",
      "source": [
        "np.mean(y_pred == y_test)"
      ],
      "metadata": {
        "id": "9X2tHCHtoHJH"
      },
      "execution_count": null,
      "outputs": []
    },
    {
      "cell_type": "code",
      "source": [],
      "metadata": {
        "id": "g0Ly0sLUoL6f"
      },
      "execution_count": null,
      "outputs": []
    },
    {
      "cell_type": "markdown",
      "source": [
        "## **Generelized Linear Model**"
      ],
      "metadata": {
        "id": "KpyrJ09FbGdX"
      }
    },
    {
      "cell_type": "markdown",
      "source": [
        "The generelized linear model that is used is using multinomial as the label, which the model is called softmax"
      ],
      "metadata": {
        "id": "Ko-E2aZk05gG"
      }
    },
    {
      "cell_type": "code",
      "source": [
        "class Softmax:\n",
        "  def __init__(self, X, y=None, lr=0.01):\n",
        "    # Params untuk menyimpan parameter dan gradientnya\n",
        "    self.params = {}\n",
        "\n",
        "    # inisiasi parameter\n",
        "    # Menambah col baru dengan semua isinya bernilai 1 ke x\n",
        "    # yang digunakan agar kita memiliki intercept di rumus linear regresi\n",
        "    # yang menggunakan vector form\n",
        "    self.X = np.concatenate((np.ones([np.shape(X)[0], 1]), X),axis=1)\n",
        "    self.y = y\n",
        "    # learning rate sebagai konstanta belajar seberapa cepat mengupdate gradient\n",
        "    self.lr = lr\n",
        "    # Inisiasi parameter linear regresi dengan menggunakan nilai random\n",
        "    self.params['W'] = np.random.rand(1, self.X.shape[1])\n",
        "\n",
        "  def predict(self, X, mode=\"test\"):\n",
        "    \"\"\"Untuk Prediksi y Berdasarkan input X menggunakan model linear regresi\"\"\"\n",
        "    if mode == \"test\":\n",
        "      # Menambah col baru dengan semua isinya bernilai 1 ke x\n",
        "      # yang digunakan agar kita memiliki intercept di rumus linear regresi\n",
        "      # yang menggunakan vector form\n",
        "      X = np.concatenate((np.ones([np.shape(X)[0], 1]), X),axis=1)\n",
        "      output = self.forward(X, mode)\n",
        "      output = self.sigmoid(output, mode)\n",
        "      return np.round(output)\n",
        "    # Memprediksi y berdasarkan X menggunakan model yang sudah dibuat\n",
        "    output = self.forward(X, mode)\n",
        "    output = self.sigmoid(output, mode)\n",
        "    return output\n",
        "\n",
        "  def forward(self, X, mode=\"test\"):\n",
        "    return np.dot(X, self.params[\"W\"].T)\n",
        "\n",
        "  def sigmoid(self, X, mode=\"test\"):\n",
        "    return 1 / (1 + np.exp(-X))\n",
        "\n",
        "  def loss(self, output, y):\n",
        "    \"\"\"Menghitung loss\"\"\"\n",
        "    # Menghitung loss menggunakan mean squared error dan dikali 1/2 agar\n",
        "    # gradientnya nanti gampang dihitung\n",
        "    # return 1/2 * np.mean(np.square(output - y))\n",
        "    loss = y * np.log(output) + (1 - y) * np.log((1 - output))\n",
        "    loss = np.sum(loss)\n",
        "    # print(loss)\n",
        "    return loss\n",
        "\n",
        "  def batch(self, batch_size):\n",
        "    \"\"\"Menggunakan mini-batch untuk menghitung loss, output, dan gradien\"\"\"\n",
        "    # Meninisiasi loss dan menshuffle X & y\n",
        "    loss = 0\n",
        "    # Menshuffle menggunakan fungsi np.random.permutation() sebagai index\n",
        "    # lalu menggunakan index tersebut untuk menshuffle X dan y\n",
        "    indices = np.random.permutation(len(self.y))\n",
        "    X_shuffle = self.X[indices]\n",
        "    y_shuffle = self.y[indices]\n",
        "\n",
        "    # Membagi data menjadi minibatch yg diitung loss nya\n",
        "    for i in range(0, len(self.y), batch_size):\n",
        "      end = min(i + batch_size, len(self.y))\n",
        "      # Membagi data per batch dengan banyak n (training example) sesuai\n",
        "      # dengan batch_size yang dipilih\n",
        "      X_batch = X_shuffle[i:end, :]\n",
        "      y_batch = y_shuffle[i:end]\n",
        "      # Kalulasi loss per batch\n",
        "      a = self.calculate(X_batch, y_batch, \"train\", \"gradient_descent\")[0]\n",
        "\n",
        "      # Melakukan running average dari loss sebelumnya agar mendapatkan rata\n",
        "      # rata loss dari mini batch\n",
        "      loss = loss + a * (end - i)\n",
        "    # Return total loss dari loss yang didapatkan menggunakan running average\n",
        "    # dan dibagi total training (n)\n",
        "    return loss / len(self.y)\n",
        "\n",
        "\n",
        "  def calculate(self, X, y, mode=\"test\", solver_type=\"gradient_descent\"):\n",
        "    \"\"\"Untuk kalkulasi gradien output dan least square dari model\"\"\"\n",
        "    # Mendapatkan output dari linear regresi\n",
        "    output = self.predict(X, mode=mode)\n",
        "    # Bila modenya train\n",
        "    if mode == \"train\":\n",
        "      # Training menggunakan gradient descent\n",
        "      # Menghitung loss menggunakan output dan y\n",
        "      loss = self.loss(output, y)\n",
        "\n",
        "      # Menentukan solver type gradient descent atau metode least square\n",
        "      if solver_type == \"gradient_descent\":\n",
        "        # Menghitung gradient menggunakan rumus dibawah\n",
        "        self.params['dW'] = np.dot((y[:, np.newaxis] - output).T, X) / len(y)\n",
        "        # Update parameter berdasarkan gradient dikali konstanta belajar (lr/learning rate)\n",
        "        self.params['W'] += self.lr * self.params['dW']\n",
        "      # Bila menggunakan metode least square / metode kuadrat terkecil\n",
        "      else:\n",
        "        # Perhitungan menggunakan metode kuadrat terkecil agar mendapatkan\n",
        "        # Parameter optimal untuk model secara langsung agar meminimalkan\n",
        "        # loss function\n",
        "        a = np.linalg.inv(np.dot(X.T, X))\n",
        "        b = np.dot(X.T, y)\n",
        "        c = np.dot(a, b)\n",
        "\n",
        "        # Mengupdate parameter berdasarkan parameter optimal\n",
        "        self.params['W'] = c[:, np.newaxis].T\n",
        "\n",
        "    # Return output bila mode test\n",
        "    else:\n",
        "      return output\n",
        "\n",
        "    # Return loss serta output\n",
        "    return loss, output\n",
        "\n",
        "  def train(self, solver_type=\"gradient_descent\", epoch=50, batch_size=216):\n",
        "    \"\"\"Untuk train model linear regresi\"\"\"\n",
        "    if solver_type == \"gradient_descent\":\n",
        "      # Bila solver type gradient descent update parameter dilakukan sampai\n",
        "      # epoch/iterasi tertentu\n",
        "      for i in range(epoch):\n",
        "        # Menghitung loss dari model yang di update parameternya\n",
        "        loss = self.batch(batch_size)\n",
        "        print(f\"[Epoch {i + 1}] : loss = {loss}\")\n",
        "    else:\n",
        "      # Menghitung loss yang sudah di update parameternya menggunakan least square/metode kuadrat terkecil\n",
        "      loss, _ = self.calculate(self.X, self.y, \"train\", \"least_square\")\n",
        "      print(f\"loss : {loss}\")\n"
      ],
      "metadata": {
        "id": "_qmZmG3YbJbN"
      },
      "execution_count": null,
      "outputs": []
    }
  ]
}