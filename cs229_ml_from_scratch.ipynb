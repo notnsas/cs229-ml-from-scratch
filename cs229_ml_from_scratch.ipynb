{
  "nbformat": 4,
  "nbformat_minor": 0,
  "metadata": {
    "colab": {
      "provenance": [],
      "authorship_tag": "ABX9TyNH+KK0q6RfuYQ2q5W0pZJd",
      "include_colab_link": true
    },
    "kernelspec": {
      "name": "python3",
      "display_name": "Python 3"
    },
    "language_info": {
      "name": "python"
    }
  },
  "cells": [
    {
      "cell_type": "markdown",
      "metadata": {
        "id": "view-in-github",
        "colab_type": "text"
      },
      "source": [
        "<a href=\"https://colab.research.google.com/github/notnsas/cs229-ml-from-scratch/blob/version-1/cs229_ml_from_scratch.ipynb\" target=\"_parent\"><img src=\"https://colab.research.google.com/assets/colab-badge.svg\" alt=\"Open In Colab\"/></a>"
      ]
    },
    {
      "cell_type": "markdown",
      "source": [
        "# **CS229 ML IMPLEMENTATION**"
      ],
      "metadata": {
        "id": "PIknFBoaailq"
      }
    },
    {
      "cell_type": "code",
      "source": [
        "import numpy as np\n",
        "import pandas as pd"
      ],
      "metadata": {
        "id": "q-5xScTkIA_-"
      },
      "execution_count": 1,
      "outputs": []
    },
    {
      "cell_type": "markdown",
      "source": [
        "## **Linear Regression**"
      ],
      "metadata": {
        "id": "AU-00q50aoEU"
      }
    },
    {
      "cell_type": "code",
      "source": [
        "# Model Linear Regressi\n",
        "class LinearRegression:\n",
        "  def __init__(self, X, y=None, lr=0.01):\n",
        "    # Params untuk menyimpan parameter dan gradientnya\n",
        "    self.params = {}\n",
        "\n",
        "    # inisiasi parameter\n",
        "    # Menambah col baru dengan semua isinya bernilai 1 ke x\n",
        "    # yang digunakan agar kita memiliki intercept di rumus linear regresi\n",
        "    # yang menggunakan vector form\n",
        "    self.X = np.concatenate((np.ones([np.shape(X)[0], 1]), X),axis=1)\n",
        "    self.y = y\n",
        "    # learning rate sebagai konstanta belajar seberapa cepat mengupdate gradient\n",
        "    self.lr = lr\n",
        "    # Inisiasi parameter linear regresi dengan menggunakan nilai random\n",
        "    self.params['W'] = np.random.rand(1, self.X.shape[1])\n",
        "\n",
        "  def predict(self, X, mode=\"test\"):\n",
        "    \"\"\"Untuk Prediksi y Berdasarkan input X menggunakan model linear regresi\"\"\"\n",
        "    if mode == \"test\":\n",
        "      # Menambah col baru dengan semua isinya bernilai 1 ke x\n",
        "      # yang digunakan agar kita memiliki intercept di rumus linear regresi\n",
        "      # yang menggunakan vector form\n",
        "      X = np.concatenate((np.ones([np.shape(X)[0], 1]), X),axis=1)\n",
        "    # Memprediksi y berdasarkan X menggunakan model yang sudah dibuat\n",
        "    output = np.dot(X, self.params[\"W\"].T)\n",
        "    return output\n",
        "\n",
        "  def loss(self, output, y):\n",
        "    \"\"\"Menghitung loss\"\"\"\n",
        "    # Menghitung loss menggunakan mean squared error dan dikali 1/2 agar\n",
        "    # gradientnya nanti gampang dihitung\n",
        "    return 1/2 * np.mean(np.square(output - y))\n",
        "\n",
        "  def batch(self, batch_size):\n",
        "    \"\"\"Menggunakan mini-batch untuk menghitung loss, output, dan gradien\"\"\"\n",
        "    # Meninisiasi loss dan menshuffle X & y\n",
        "    loss = 0\n",
        "    # Menshuffle menggunakan fungsi np.random.permutation() sebagai index\n",
        "    # lalu menggunakan index tersebut untuk menshuffle X dan y\n",
        "    indices = np.random.permutation(len(self.y))\n",
        "    X_shuffle = self.X[indices]\n",
        "    y_shuffle = self.y[indices]\n",
        "\n",
        "    # Membagi data menjadi minibatch yg diitung loss nya\n",
        "    for i in range(0, len(self.y), batch_size):\n",
        "      end = min(i + batch_size, len(self.y))\n",
        "      # Membagi data per batch dengan banyak n (training example) sesuai\n",
        "      # dengan batch_size yang dipilih\n",
        "      X_batch = X_shuffle[i:end, :]\n",
        "      y_batch = y_shuffle[i:end]\n",
        "      # Kalulasi loss per batch\n",
        "      a = self.calculate(X_batch, y_batch, \"train\", \"gradient_descent\")[0]\n",
        "\n",
        "      # Melakukan running average dari loss sebelumnya agar mendapatkan rata\n",
        "      # rata loss dari mini batch\n",
        "      loss = loss + a * (end - i)\n",
        "    # Return total loss dari loss yang didapatkan menggunakan running average\n",
        "    # dan dibagi total training (n)\n",
        "    return loss / len(self.y)\n",
        "\n",
        "\n",
        "  def calculate(self, X, y, mode=\"test\", solver_type=\"least_square\"):\n",
        "    \"\"\"Untuk kalkulasi gradien output dan least square dari model\"\"\"\n",
        "    # Mendapatkan output dari linear regresi\n",
        "    output = self.predict(X, mode=mode)\n",
        "    # Bila modenya train\n",
        "    if mode == \"train\":\n",
        "      # Training menggunakan gradient descent\n",
        "      # Menghitung loss menggunakan output dan y\n",
        "      loss = self.loss(output, y)\n",
        "\n",
        "      # Menentukan solver type gradient descent atau metode least square\n",
        "      if solver_type == \"gradient_descent\":\n",
        "        # Menghitung gradient menggunakan rumus dibawah\n",
        "        self.params['dW'] = np.dot((y[:, np.newaxis] - output).T, X) / len(y)\n",
        "        # Update parameter berdasarkan gradient dikali konstanta belajar (lr/learning rate)\n",
        "        self.params['W'] += self.lr * self.params['dW']\n",
        "      # Bila menggunakan metode least square / metode kuadrat terkecil\n",
        "      else:\n",
        "        # Perhitungan menggunakan metode kuadrat terkecil agar mendapatkan\n",
        "        # Parameter optimal untuk model secara langsung agar meminimalkan\n",
        "        # loss function\n",
        "        a = np.linalg.inv(np.dot(X.T, X))\n",
        "        b = np.dot(X.T, y)\n",
        "        c = np.dot(a, b)\n",
        "\n",
        "        # Mengupdate parameter berdasarkan parameter optimal\n",
        "        self.params['W'] = c[:, np.newaxis].T\n",
        "\n",
        "    # Return output bila mode test\n",
        "    else:\n",
        "      return output\n",
        "\n",
        "    # Return loss serta output\n",
        "    return loss, output\n",
        "\n",
        "  def train(self, solver_type=\"least_square\", epoch=50, batch_size=216):\n",
        "    \"\"\"Untuk train model linear regresi\"\"\"\n",
        "    if solver_type == \"gradient_descent\":\n",
        "      # Bila solver type gradient descent update parameter dilakukan sampai\n",
        "      # epoch/iterasi tertentu\n",
        "      for i in range(epoch):\n",
        "        # Menghitung loss dari model yang di update parameternya\n",
        "        loss = self.batch(batch_size)\n",
        "        print(f\"[Epoch {i + 1}] : loss = {loss}\")\n",
        "    else:\n",
        "      # Menghitung loss yang sudah di update parameternya menggunakan least square/metode kuadrat terkecil\n",
        "      loss, _ = self.calculate(self.X, self.y, \"train\", \"least_square\")\n",
        "      print(f\"loss : {loss}\")"
      ],
      "metadata": {
        "id": "Yu4uvH-qaH6x"
      },
      "execution_count": 2,
      "outputs": []
    },
    {
      "cell_type": "code",
      "source": [
        "# Mengambil data untuk feature X dan label y yaitu 'carat' sebagai kolom yang akan di tebak, lalu menormalisasikanya\n",
        "X = numeric_data[:, 1:] / np.max(numeric_data[:, 1:],axis=0)\n",
        "y = numeric_data[:, 0]\n",
        "\n",
        "# Ngesplit data menjadi train dan testing\n",
        "X_train, y_train, X_test, y_test = X[:40000, :], y[:40000], X[40000:, :], y[40000:]\n",
        "\n",
        "# Membuat objek linear regresi dengan data tersebut\n",
        "model = LinearRegression(X_train, y_train, 0.1)"
      ],
      "metadata": {
        "id": "gCJ_G6XoQF3K",
        "colab": {
          "base_uri": "https://localhost:8080/",
          "height": 217
        },
        "outputId": "abaa14d3-d509-4bb4-dc43-d8fbf5d51da9"
      },
      "execution_count": 3,
      "outputs": [
        {
          "output_type": "error",
          "ename": "NameError",
          "evalue": "name 'numeric_data' is not defined",
          "traceback": [
            "\u001b[0;31m---------------------------------------------------------------------------\u001b[0m",
            "\u001b[0;31mNameError\u001b[0m                                 Traceback (most recent call last)",
            "\u001b[0;32m<ipython-input-3-733cec55292d>\u001b[0m in \u001b[0;36m<cell line: 0>\u001b[0;34m()\u001b[0m\n\u001b[1;32m      1\u001b[0m \u001b[0;31m# Mengambil data untuk feature X dan label y yaitu 'carat' sebagai kolom yang akan di tebak, lalu menormalisasikanya\u001b[0m\u001b[0;34m\u001b[0m\u001b[0;34m\u001b[0m\u001b[0m\n\u001b[0;32m----> 2\u001b[0;31m \u001b[0mX\u001b[0m \u001b[0;34m=\u001b[0m \u001b[0mnumeric_data\u001b[0m\u001b[0;34m[\u001b[0m\u001b[0;34m:\u001b[0m\u001b[0;34m,\u001b[0m \u001b[0;36m1\u001b[0m\u001b[0;34m:\u001b[0m\u001b[0;34m]\u001b[0m \u001b[0;34m/\u001b[0m \u001b[0mnp\u001b[0m\u001b[0;34m.\u001b[0m\u001b[0mmax\u001b[0m\u001b[0;34m(\u001b[0m\u001b[0mnumeric_data\u001b[0m\u001b[0;34m[\u001b[0m\u001b[0;34m:\u001b[0m\u001b[0;34m,\u001b[0m \u001b[0;36m1\u001b[0m\u001b[0;34m:\u001b[0m\u001b[0;34m]\u001b[0m\u001b[0;34m,\u001b[0m\u001b[0maxis\u001b[0m\u001b[0;34m=\u001b[0m\u001b[0;36m0\u001b[0m\u001b[0;34m)\u001b[0m\u001b[0;34m\u001b[0m\u001b[0;34m\u001b[0m\u001b[0m\n\u001b[0m\u001b[1;32m      3\u001b[0m \u001b[0my\u001b[0m \u001b[0;34m=\u001b[0m \u001b[0mnumeric_data\u001b[0m\u001b[0;34m[\u001b[0m\u001b[0;34m:\u001b[0m\u001b[0;34m,\u001b[0m \u001b[0;36m0\u001b[0m\u001b[0;34m]\u001b[0m\u001b[0;34m\u001b[0m\u001b[0;34m\u001b[0m\u001b[0m\n\u001b[1;32m      4\u001b[0m \u001b[0;34m\u001b[0m\u001b[0m\n\u001b[1;32m      5\u001b[0m \u001b[0;31m# Ngesplit data menjadi train dan testing\u001b[0m\u001b[0;34m\u001b[0m\u001b[0;34m\u001b[0m\u001b[0m\n",
            "\u001b[0;31mNameError\u001b[0m: name 'numeric_data' is not defined"
          ]
        }
      ]
    },
    {
      "cell_type": "code",
      "source": [
        "# Melatih model linear regresi dan melihat loss dari model tersebut ke data\n",
        "# Melatih menggunakan metode gradient descent (Karena datanya terlalu banyak)\n",
        "model.train(\"gradient_descent\", epoch=50, batch_size=512)"
      ],
      "metadata": {
        "id": "2IRqseW8QiP0"
      },
      "execution_count": null,
      "outputs": []
    },
    {
      "cell_type": "code",
      "source": [
        "# Melakukan Testing\n",
        "# Mendapatkan prediksi model berdasarkan X_test yaitu test data\n",
        "output = model.predict(X_test)\n",
        "print(f\"Hasil output atau prediksi y berdasarkan X adalah : \\n{output}\")\n",
        "print(f\"\\nLabel atau y yang asli sebagai perbandingan : \\n{y_test}\")\n",
        "\n",
        "# Menghitung seberapa bagus model menggunakan test data menggunakan Mean Squared Error\n",
        "mse = np.mean(np.square(output - y_test))\n",
        "print(f\"\\n\\nMean Squared Error dari Testing data Menggunakan Gradient Descent adalah = {mse}\")"
      ],
      "metadata": {
        "id": "lzQSihrQfmJg"
      },
      "execution_count": null,
      "outputs": []
    },
    {
      "cell_type": "markdown",
      "source": [
        "Menggunakan metode kuadrat terkecil sebagai metode optimasi"
      ],
      "metadata": {
        "id": "yelIQUi8ZWKt"
      }
    },
    {
      "cell_type": "code",
      "source": [
        "# Mengambil 15000 data pertama untuk feature X dan 5000 label y yaitu 'carat' sebagai kolom yang akan di tebak\n",
        "# Data hanya 15000 yang dipakai karena metode kuadrat terkecil tidak dapat dipakai untuk data yang banyak\n",
        "# Ngesplit data menjadi train dan testing\n",
        "X_train, y_train, X_test, y_test = X[:15000, :], y[:15000], X[15000:20000, :], y[15000:20000]\n",
        "\n",
        "# Membuat objek linear regresi dengan data tersebut\n",
        "model = LinearRegression(X_train, y_train, 0.1)"
      ],
      "metadata": {
        "id": "sMEUrEetZaMt"
      },
      "execution_count": null,
      "outputs": []
    },
    {
      "cell_type": "code",
      "source": [
        "# Melatih model linear regresi dan melihat loss dari model tersebut ke data\n",
        "# Melatih menggunakan metode kuadrat terkecil menggunakan 1000 data\n",
        "model.train(\"least_square\")"
      ],
      "metadata": {
        "id": "w2Rldw8pNGnD"
      },
      "execution_count": null,
      "outputs": []
    },
    {
      "cell_type": "code",
      "source": [
        "# Melakukan Testing\n",
        "# Mendapatkan prediksi model berdasarkan X_test yaitu test data\n",
        "output = model.predict(X_test)\n",
        "print(f\"Hasil output atau prediksi y berdasarkan X adalah : \\n{output}\")\n",
        "print(f\"\\nLabel atau y yang asli sebagai perbandingan : \\n{y_test}\")\n",
        "\n",
        "# Menghitung seberapa bagus model menggunakan test data menggunakan Mean Squared Error\n",
        "mse = np.mean(np.square(output - y_test))\n",
        "print(f\"\\n\\nMean Squared Error dari Testing data Menggunakan Metode Kuadrat Terkecil adalah = {mse}\")"
      ],
      "metadata": {
        "id": "-YeIZyqAbeKz"
      },
      "execution_count": null,
      "outputs": []
    },
    {
      "cell_type": "markdown",
      "source": [
        "## **Logistic Regression**"
      ],
      "metadata": {
        "id": "DHinBXAoauSY"
      }
    },
    {
      "cell_type": "code",
      "execution_count": null,
      "metadata": {
        "id": "eUHG_3bUx00b"
      },
      "outputs": [],
      "source": [
        "import numpy as np\n",
        "class LogisticRegression:\n",
        "  def __init__(self, X, y=None, lr=0.01):\n",
        "    # Params untuk menyimpan parameter dan gradientnya\n",
        "    self.params = {}\n",
        "\n",
        "    # inisiasi parameter\n",
        "    # Menambah col baru dengan semua isinya bernilai 1 ke x\n",
        "    # yang digunakan agar kita memiliki intercept di rumus linear regresi\n",
        "    # yang menggunakan vector form\n",
        "    self.X = np.concatenate((np.ones([np.shape(X)[0], 1]), X),axis=1)\n",
        "    self.y = y\n",
        "    # learning rate sebagai konstanta belajar seberapa cepat mengupdate gradient\n",
        "    self.lr = lr\n",
        "    # Inisiasi parameter linear regresi dengan menggunakan nilai random\n",
        "    self.params['W'] = np.random.rand(1, self.X.shape[1])\n",
        "\n",
        "  def predict(self, X, mode=\"test\"):\n",
        "    \"\"\"Untuk Prediksi y Berdasarkan input X menggunakan model linear regresi\"\"\"\n",
        "    if mode == \"test\":\n",
        "      # Menambah col baru dengan semua isinya bernilai 1 ke x\n",
        "      # yang digunakan agar kita memiliki intercept di rumus linear regresi\n",
        "      # yang menggunakan vector form\n",
        "      X = np.concatenate((np.ones([np.shape(X)[0], 1]), X),axis=1)\n",
        "      output = self.forward(X, mode)\n",
        "      output = self.sigmoid(output, mode)\n",
        "      return np.round(output)\n",
        "    # Memprediksi y berdasarkan X menggunakan model yang sudah dibuat\n",
        "    output = self.forward(X, mode)\n",
        "    output = self.sigmoid(output, mode)\n",
        "    return output\n",
        "\n",
        "  def forward(self, X, mode=\"test\"):\n",
        "    return np.dot(X, self.params[\"W\"].T)\n",
        "\n",
        "  def sigmoid(self, X, mode=\"test\"):\n",
        "    return 1 / (1 + np.exp(-X))\n",
        "\n",
        "  def loss(self, output, y):\n",
        "    \"\"\"Menghitung loss\"\"\"\n",
        "    # Menghitung loss menggunakan mean squared error dan dikali 1/2 agar\n",
        "    # gradientnya nanti gampang dihitung\n",
        "    # return 1/2 * np.mean(np.square(output - y))\n",
        "    loss = y * np.log(output) + (1 - y) * np.log((1 - output))\n",
        "    loss = np.sum(loss)\n",
        "    # print(loss)\n",
        "    return loss\n",
        "\n",
        "  def batch(self, batch_size):\n",
        "    \"\"\"Menggunakan mini-batch untuk menghitung loss, output, dan gradien\"\"\"\n",
        "    # Meninisiasi loss dan menshuffle X & y\n",
        "    loss = 0\n",
        "    # Menshuffle menggunakan fungsi np.random.permutation() sebagai index\n",
        "    # lalu menggunakan index tersebut untuk menshuffle X dan y\n",
        "    indices = np.random.permutation(len(self.y))\n",
        "    X_shuffle = self.X[indices]\n",
        "    y_shuffle = self.y[indices]\n",
        "\n",
        "    # Membagi data menjadi minibatch yg diitung loss nya\n",
        "    for i in range(0, len(self.y), batch_size):\n",
        "      end = min(i + batch_size, len(self.y))\n",
        "      # Membagi data per batch dengan banyak n (training example) sesuai\n",
        "      # dengan batch_size yang dipilih\n",
        "      X_batch = X_shuffle[i:end, :]\n",
        "      y_batch = y_shuffle[i:end]\n",
        "      # Kalulasi loss per batch\n",
        "      a = self.calculate(X_batch, y_batch, \"train\", \"gradient_descent\")[0]\n",
        "\n",
        "      # Melakukan running average dari loss sebelumnya agar mendapatkan rata\n",
        "      # rata loss dari mini batch\n",
        "      loss = loss + a * (end - i)\n",
        "    # Return total loss dari loss yang didapatkan menggunakan running average\n",
        "    # dan dibagi total training (n)\n",
        "    return loss / len(self.y)\n",
        "\n",
        "\n",
        "  def calculate(self, X, y, mode=\"test\", solver_type=\"gradient_descent\"):\n",
        "    \"\"\"Untuk kalkulasi gradien output dan least square dari model\"\"\"\n",
        "    # Mendapatkan output dari linear regresi\n",
        "    output = self.predict(X, mode=mode)\n",
        "    # Bila modenya train\n",
        "    if mode == \"train\":\n",
        "      # Training menggunakan gradient descent\n",
        "      # Menghitung loss menggunakan output dan y\n",
        "      loss = self.loss(output, y)\n",
        "\n",
        "      # Menentukan solver type gradient descent atau metode least square\n",
        "      if solver_type == \"gradient_descent\":\n",
        "        # Menghitung gradient menggunakan rumus dibawah\n",
        "        self.params['dW'] = np.dot((y[:, np.newaxis] - output).T, X) / len(y)\n",
        "        # Update parameter berdasarkan gradient dikali konstanta belajar (lr/learning rate)\n",
        "        self.params['W'] += self.lr * self.params['dW']\n",
        "      # Bila menggunakan metode least square / metode kuadrat terkecil\n",
        "      else:\n",
        "        # Perhitungan menggunakan metode kuadrat terkecil agar mendapatkan\n",
        "        # Parameter optimal untuk model secara langsung agar meminimalkan\n",
        "        # loss function\n",
        "        a = np.linalg.inv(np.dot(X.T, X))\n",
        "        b = np.dot(X.T, y)\n",
        "        c = np.dot(a, b)\n",
        "\n",
        "        # Mengupdate parameter berdasarkan parameter optimal\n",
        "        self.params['W'] = c[:, np.newaxis].T\n",
        "\n",
        "    # Return output bila mode test\n",
        "    else:\n",
        "      return output\n",
        "\n",
        "    # Return loss serta output\n",
        "    return loss, output\n",
        "\n",
        "  def train(self, solver_type=\"gradient_descent\", epoch=50, batch_size=216):\n",
        "    \"\"\"Untuk train model linear regresi\"\"\"\n",
        "    if solver_type == \"gradient_descent\":\n",
        "      # Bila solver type gradient descent update parameter dilakukan sampai\n",
        "      # epoch/iterasi tertentu\n",
        "      for i in range(epoch):\n",
        "        # Menghitung loss dari model yang di update parameternya\n",
        "        loss = self.batch(batch_size)\n",
        "        print(f\"[Epoch {i + 1}] : loss = {loss}\")\n",
        "    else:\n",
        "      # Menghitung loss yang sudah di update parameternya menggunakan least square/metode kuadrat terkecil\n",
        "      loss, _ = self.calculate(self.X, self.y, \"train\", \"least_square\")\n",
        "      print(f\"loss : {loss}\")\n"
      ]
    },
    {
      "cell_type": "code",
      "source": [
        "import kagglehub\n",
        "\n",
        "# Download latest version\n",
        "path = kagglehub.dataset_download(\"fedesoriano/stroke-prediction-dataset\")\n",
        "\n",
        "print(\"Path to dataset files:\", path)"
      ],
      "metadata": {
        "id": "-lS_9B-se1Dk"
      },
      "execution_count": null,
      "outputs": []
    },
    {
      "cell_type": "code",
      "source": [
        "from os import listdir\n",
        "from os.path import isfile, join\n",
        "\n",
        "mypath = '/root/.cache/kagglehub/datasets/fedesoriano/stroke-prediction-dataset/versions/1'\n",
        "onlyfiles = [f for f in listdir(mypath) if isfile(join(mypath, f))]"
      ],
      "metadata": {
        "id": "4Wbg2X7se-Tp"
      },
      "execution_count": null,
      "outputs": []
    },
    {
      "cell_type": "code",
      "source": [
        "onlyfiles"
      ],
      "metadata": {
        "id": "2iwxe2LmytfA"
      },
      "execution_count": null,
      "outputs": []
    },
    {
      "cell_type": "code",
      "source": [
        "import pandas as pd\n",
        "df = pd.read_csv(\"/root/.cache/kagglehub/datasets/fedesoriano/stroke-prediction-dataset/versions/1/healthcare-dataset-stroke-data.csv\")\n",
        "df = df.select_dtypes(include='number')\n",
        "df = df.fillna(df.mean())"
      ],
      "metadata": {
        "id": "RIb0ZLRBfdRV"
      },
      "execution_count": null,
      "outputs": []
    },
    {
      "cell_type": "code",
      "source": [
        "X = df[[i for i in df.select_dtypes(include='number').columns if i!= \"stroke\"]]\n",
        "y = df['stroke']\n"
      ],
      "metadata": {
        "id": "tZdYe56pfk5U"
      },
      "execution_count": null,
      "outputs": []
    },
    {
      "cell_type": "code",
      "source": [
        "from sklearn.preprocessing import StandardScaler\n",
        "\n",
        "# Initialize the scaler\n",
        "standard_scaler = StandardScaler()\n",
        "\n",
        "# Fit and transform the data\n",
        "X = pd.DataFrame(standard_scaler.fit_transform(X), columns=X.columns)\n",
        "X"
      ],
      "metadata": {
        "id": "UPvTCVywhaCQ"
      },
      "execution_count": null,
      "outputs": []
    },
    {
      "cell_type": "code",
      "source": [
        "X, y = X.to_numpy(), y.to_numpy()"
      ],
      "metadata": {
        "id": "IIWKCl09f9nW"
      },
      "execution_count": null,
      "outputs": []
    },
    {
      "cell_type": "code",
      "source": [
        "from sklearn.model_selection import train_test_split\n",
        "\n",
        "X_train, X_test, y_train, y_test = train_test_split(X,y ,\n",
        "                                   random_state=104,\n",
        "                                   test_size=0.25,\n",
        "                                   shuffle=True)"
      ],
      "metadata": {
        "id": "pnxSw6URfuZk"
      },
      "execution_count": null,
      "outputs": []
    },
    {
      "cell_type": "code",
      "source": [
        "model = LogisticRegression(X_train, y_train)\n"
      ],
      "metadata": {
        "id": "qK8Se_mHgSre"
      },
      "execution_count": null,
      "outputs": []
    },
    {
      "cell_type": "code",
      "source": [
        "uniques, counts = np.unique(y, return_counts=True)\n",
        "percentages = dict(zip(uniques, counts * 100 / len(y)))"
      ],
      "metadata": {
        "id": "z0Sx6u_ck1rs"
      },
      "execution_count": null,
      "outputs": []
    },
    {
      "cell_type": "code",
      "source": [
        "percentages"
      ],
      "metadata": {
        "id": "AhcgHnlklQMq"
      },
      "execution_count": null,
      "outputs": []
    },
    {
      "cell_type": "code",
      "source": [
        "model.train()"
      ],
      "metadata": {
        "id": "So9utEumgg1W"
      },
      "execution_count": null,
      "outputs": []
    },
    {
      "cell_type": "code",
      "source": [
        "output = model.predict(X_test)\n"
      ],
      "metadata": {
        "id": "KuP4YK5NiJUm"
      },
      "execution_count": null,
      "outputs": []
    },
    {
      "cell_type": "code",
      "source": [
        "acc = np.mean(output == y_test)\n",
        "acc"
      ],
      "metadata": {
        "id": "mYJq1bxXgzPA"
      },
      "execution_count": null,
      "outputs": []
    },
    {
      "cell_type": "code",
      "source": [
        "# import the class\n",
        "from sklearn.linear_model import LogisticRegression\n",
        "\n",
        "# instantiate the model (using the default parameters)\n",
        "logreg = LogisticRegression(random_state=16)\n",
        "\n",
        "# fit the model with data\n",
        "logreg.fit(X_train, y_train)\n",
        "\n",
        "y_pred = logreg.predict(X_test)"
      ],
      "metadata": {
        "id": "5aIHVEI6jcro"
      },
      "execution_count": null,
      "outputs": []
    },
    {
      "cell_type": "code",
      "source": [
        "np.mean(y_pred == y_test)"
      ],
      "metadata": {
        "id": "9X2tHCHtoHJH"
      },
      "execution_count": null,
      "outputs": []
    },
    {
      "cell_type": "code",
      "source": [
        "rows = 5\n",
        "cols = 10\n",
        "\n",
        "# Create a zero matrix\n",
        "arr = np.zeros((rows, cols), dtype=int)\n",
        "\n",
        "# Randomly assign one '1' per row\n",
        "for i in range(rows):\n",
        "    j = np.random.randint(cols)  # random column index\n",
        "    arr[i, j] = 1\n",
        "arr[1, 1] = 1\n",
        "arr[2, 2] = 1\n",
        "print(arr)\n",
        "import numpy as np\n",
        "\n",
        "arrs = np.arange(0, 5).reshape(-1, 1)\n",
        "\n",
        "print(arrs)\n"
      ],
      "metadata": {
        "id": "dWi9VZJ3CHRL"
      },
      "execution_count": null,
      "outputs": []
    },
    {
      "cell_type": "code",
      "source": [
        "a = np.random.randint(0, 10, (4,4))\n",
        "a"
      ],
      "metadata": {
        "id": "bLd6nxcAxdYl"
      },
      "execution_count": null,
      "outputs": []
    },
    {
      "cell_type": "code",
      "source": [
        "np.argmax(a, axis=1)"
      ],
      "metadata": {
        "id": "iLWE1RfUxnUx"
      },
      "execution_count": null,
      "outputs": []
    },
    {
      "cell_type": "markdown",
      "source": [
        "## **Generalized Linear Model**"
      ],
      "metadata": {
        "id": "KpyrJ09FbGdX"
      }
    },
    {
      "cell_type": "markdown",
      "source": [
        "The generalized linear model that is used is using multinomial as the label, which the model is called softmax"
      ],
      "metadata": {
        "id": "Ko-E2aZk05gG"
      }
    },
    {
      "cell_type": "code",
      "source": [
        "class Softmax:\n",
        "  def __init__(self, X, y=None, lr=0.01):\n",
        "    # Params untuk menyimpan parameter dan gradientnya\n",
        "    self.params = {}\n",
        "\n",
        "    # inisiasi parameter\n",
        "    # Menambah col baru dengan semua isinya bernilai 1 ke x\n",
        "    # yang digunakan agar kita memiliki intercept di rumus linear regresi\n",
        "    # yang menggunakan vector form\n",
        "    self.X = np.concatenate((np.ones([np.shape(X)[0], 1]), X),axis=1)\n",
        "    self.y = y\n",
        "    # learning rate sebagai konstanta belajar seberapa cepat mengupdate gradient\n",
        "    self.lr = lr\n",
        "    # Inisiasi parameter linear regresi dengan menggunakan nilai random\n",
        "    self.params['W'] = np.random.rand(len(np.unique(y)), self.X.shape[1])\n",
        "\n",
        "  def predict(self, X, mode=\"test\"):\n",
        "    \"\"\"Untuk Prediksi y Berdasarkan input X menggunakan model linear regresi\"\"\"\n",
        "    if mode == \"test\":\n",
        "      # Menambah col baru dengan semua isinya bernilai 1 ke x\n",
        "      # yang digunakan agar kita memiliki intercept di rumus linear regresi\n",
        "      # yang menggunakan vector form\n",
        "      X = np.concatenate((np.ones([np.shape(X)[0], 1]), X),axis=1)\n",
        "      output = self.forward(X, mode)\n",
        "      output = self.softmax(output)\n",
        "      output = np.argmax(output, axis=1)\n",
        "      return output\n",
        "    # Memprediksi y berdasarkan X menggunakan model yang sudah dibuat\n",
        "    output = self.forward(X, mode)\n",
        "    output = self.softmax(output)\n",
        "    return output\n",
        "\n",
        "  def forward(self, X, mode=\"test\"):\n",
        "    return np.dot(X, self.params[\"W\"].T)\n",
        "\n",
        "  def softmax(self, X):\n",
        "    return np.exp(X) / np.sum(np.exp(X), axis=1, keepdims=True)\n",
        "\n",
        "  # def loss(self, output, y):\n",
        "  #   \"\"\"Menghitung loss\"\"\"\n",
        "  #   y = y.flatten()\n",
        "  #   num_train = len(y)\n",
        "  #   # Menghitung loss menggunakan mean squared error dan dikali 1/2 agar\n",
        "  #   # gradientnya nanti gampang dihitung\n",
        "  #   # return 1/2 * np.mean(np.square(output - y))\n",
        "  #   loss = np.log(output[np.arange(num_train), y].reshape(num_train, 1))\n",
        "  #   loss = np.sum(loss)\n",
        "  #   # print(loss)\n",
        "  #   return loss\n",
        "\n",
        "  def batch(self, batch_size):\n",
        "    \"\"\"Menggunakan mini-batch untuk menghitung loss, output, dan gradien\"\"\"\n",
        "    # Meninisiasi loss dan menshuffle X & y\n",
        "    loss = 0\n",
        "    # Menshuffle menggunakan fungsi np.random.permutation() sebagai index\n",
        "    # lalu menggunakan index tersebut untuk menshuffle X dan y\n",
        "    indices = np.random.permutation(len(self.y))\n",
        "    X_shuffle = self.X[indices]\n",
        "    y_shuffle = self.y[indices]\n",
        "\n",
        "    # Membagi data menjadi minibatch yg diitung loss nya\n",
        "    for i in range(0, len(self.y), batch_size):\n",
        "      end = min(i + batch_size, len(self.y))\n",
        "      # Membagi data per batch dengan banyak n (training example) sesuai\n",
        "      # dengan batch_size yang dipilih\n",
        "      X_batch = X_shuffle[i:end, :]\n",
        "      y_batch = y_shuffle[i:end]\n",
        "      # Kalulasi loss per batch\n",
        "      a = self.calculate(X_batch, y_batch, \"train\", \"gradient_descent\")[0]\n",
        "\n",
        "      # Melakukan running average dari loss sebelumnya agar mendapatkan rata\n",
        "      # rata loss dari mini batch\n",
        "      loss = loss + a * (end - i)\n",
        "    # Return total loss dari loss yang didapatkan menggunakan running average\n",
        "    # dan dibagi total training (n)\n",
        "    return loss / len(self.y)\n",
        "\n",
        "\n",
        "  def calculate(self, X, y, mode=\"test\", solver_type=\"gradient_descent\"):\n",
        "    \"\"\"Untuk kalkulasi gradien output dan least square dari model\"\"\"\n",
        "    # Mendapatkan output dari linear regresi\n",
        "    num_train = X.shape[0]\n",
        "    output = self.predict(X, mode=mode)\n",
        "    theta = output\n",
        "    f = theta - np.max(theta, axis=1, keepdims=True)\n",
        "    scores = np.exp(f) / np.sum(np.exp(f), axis=1, keepdims=True)\n",
        "    true_scores = scores[np.arange(num_train).flatten(), y.flatten()]\n",
        "    loss = -np.sum(np.log(true_scores)) / num_train\n",
        "    # Bila modenya train\n",
        "    if mode == \"train\":\n",
        "      # Training menggunakan gradient descent\n",
        "      # Menghitung loss menggunakan output dan y\n",
        "\n",
        "\n",
        "      # Menentukan solver type gradient descent atau metode least square\n",
        "      if solver_type == \"gradient_descent\":\n",
        "        # Menghitung gradient menggunakan rumus dibawah\n",
        "\n",
        "\n",
        "         # Shift scores to avoid numerical instability\n",
        "        print(f\"X : {X.shape}\")\n",
        "        w_shape = self.params[\"W\"].shape\n",
        "        print(f\"W : {w_shape}\")\n",
        "\n",
        "\n",
        "        print(f\"scpres : {scores.shape}\")\n",
        "        print(f\"y : {y.shape}\")\n",
        "\n",
        "        print(f\"true ; {scores.shape}\")\n",
        "\n",
        "        dx = np.copy(scores)\n",
        "        dx[np.arange(num_train), y] -= 1\n",
        "        dx = dx / num_train\n",
        "        # self.params['dW'] = np.dot((y[:, np.newaxis] - output).T, X) / len(y)\n",
        "        # Update parameter berdasarkan gradient dikali konstanta belajar (lr/learning rate)\n",
        "        print(f\"X shape : {X.shape}\")\n",
        "        print(f\"dx shape : {dx.shape}\")\n",
        "        self.params['W'] -= self.lr * (dx.T @ X)\n",
        "      # Bila menggunakan metode least square / metode kuadrat terkecil\n",
        "      else:\n",
        "        # Perhitungan menggunakan metode kuadrat terkecil agar mendapatkan\n",
        "        # Parameter optimal untuk model secara langsung agar meminimalkan\n",
        "        # loss function\n",
        "        a = np.linalg.inv(np.dot(X.T, X))\n",
        "        b = np.dot(X.T, y)\n",
        "        c = np.dot(a, b)\n",
        "\n",
        "        # Mengupdate parameter berdasarkan parameter optimal\n",
        "        self.params['W'] = c[:, np.newaxis].T\n",
        "\n",
        "    # Return output bila mode test\n",
        "    else:\n",
        "      return output\n",
        "\n",
        "    # Return loss serta output\n",
        "    return loss, output\n",
        "\n",
        "  def train(self, solver_type=\"gradient_descent\", epoch=50, batch_size=216):\n",
        "    \"\"\"Untuk train model linear regresi\"\"\"\n",
        "    if solver_type == \"gradient_descent\":\n",
        "      # Bila solver type gradient descent update parameter dilakukan sampai\n",
        "      # epoch/iterasi tertentu\n",
        "      for i in range(epoch):\n",
        "        # Menghitung loss dari model yang di update parameternya\n",
        "        loss = self.batch(batch_size)\n",
        "        print(f\"[Epoch {i + 1}] : loss = {loss}\")\n",
        "    else:\n",
        "      # Menghitung loss yanag sudah di update parameternya menggunakan least square/metode kuadrat terkecil\n",
        "      loss, _ = self.calculate(self.X, self.y, \"train\", \"least_square\")\n",
        "      print(f\"loss : {loss}\")\n"
      ],
      "metadata": {
        "id": "_qmZmG3YbJbN"
      },
      "execution_count": null,
      "outputs": []
    },
    {
      "cell_type": "code",
      "source": [
        "softmax_scratch = Softmax(X_train, y_train)\n",
        "softmax_scratch.train()"
      ],
      "metadata": {
        "id": "z8EJoB2jLZbS"
      },
      "execution_count": null,
      "outputs": []
    },
    {
      "cell_type": "markdown",
      "source": [
        "## **import data for multiclass classification**"
      ],
      "metadata": {
        "id": "gmBpCPDQH0ku"
      }
    },
    {
      "cell_type": "code",
      "source": [
        "df_multi = pd.read_csv(\"https://raw.githubusercontent.com/MachineLearningBCAM/Datasets/refs/heads/main/data/multi_class_datasets/iris.csv\")\n",
        "df_multi.columns = df_multi.iloc[0]\n",
        "df_multi = df_multi.drop(0)\n",
        "\n",
        "col_x =  [i for i in df_multi.columns if i != \"class\"]\n",
        "df_multi[col_x] = df_multi[col_x].astype(float)\n",
        "df_multi"
      ],
      "metadata": {
        "id": "lc3EUv4THdQC",
        "outputId": "891bbd25-e4d4-4954-d60a-9dacac8e2b0a",
        "colab": {
          "base_uri": "https://localhost:8080/",
          "height": 423
        }
      },
      "execution_count": 4,
      "outputs": [
        {
          "output_type": "execute_result",
          "data": {
            "text/plain": [
              "0    sepal-length-in-cm  sepal-width-in-cm  petal-length-in-cm  \\\n",
              "1                   5.1                3.5                 1.4   \n",
              "2                   4.9                3.0                 1.4   \n",
              "3                   4.7                3.2                 1.3   \n",
              "4                   4.6                3.1                 1.5   \n",
              "5                   5.0                3.6                 1.4   \n",
              "..                  ...                ...                 ...   \n",
              "146                 6.7                3.0                 5.2   \n",
              "147                 6.3                2.5                 5.0   \n",
              "148                 6.5                3.0                 5.2   \n",
              "149                 6.2                3.4                 5.4   \n",
              "150                 5.9                3.0                 5.1   \n",
              "\n",
              "0    petal-width-in-cm           class  \n",
              "1                  0.2     Iris-setosa  \n",
              "2                  0.2     Iris-setosa  \n",
              "3                  0.2     Iris-setosa  \n",
              "4                  0.2     Iris-setosa  \n",
              "5                  0.2     Iris-setosa  \n",
              "..                 ...             ...  \n",
              "146                2.3  Iris-virginica  \n",
              "147                1.9  Iris-virginica  \n",
              "148                2.0  Iris-virginica  \n",
              "149                2.3  Iris-virginica  \n",
              "150                1.8  Iris-virginica  \n",
              "\n",
              "[150 rows x 5 columns]"
            ],
            "text/html": [
              "\n",
              "  <div id=\"df-e25b2aee-ce95-438d-9248-2b0c805f1d86\" class=\"colab-df-container\">\n",
              "    <div>\n",
              "<style scoped>\n",
              "    .dataframe tbody tr th:only-of-type {\n",
              "        vertical-align: middle;\n",
              "    }\n",
              "\n",
              "    .dataframe tbody tr th {\n",
              "        vertical-align: top;\n",
              "    }\n",
              "\n",
              "    .dataframe thead th {\n",
              "        text-align: right;\n",
              "    }\n",
              "</style>\n",
              "<table border=\"1\" class=\"dataframe\">\n",
              "  <thead>\n",
              "    <tr style=\"text-align: right;\">\n",
              "      <th></th>\n",
              "      <th>sepal-length-in-cm</th>\n",
              "      <th>sepal-width-in-cm</th>\n",
              "      <th>petal-length-in-cm</th>\n",
              "      <th>petal-width-in-cm</th>\n",
              "      <th>class</th>\n",
              "    </tr>\n",
              "  </thead>\n",
              "  <tbody>\n",
              "    <tr>\n",
              "      <th>1</th>\n",
              "      <td>5.1</td>\n",
              "      <td>3.5</td>\n",
              "      <td>1.4</td>\n",
              "      <td>0.2</td>\n",
              "      <td>Iris-setosa</td>\n",
              "    </tr>\n",
              "    <tr>\n",
              "      <th>2</th>\n",
              "      <td>4.9</td>\n",
              "      <td>3.0</td>\n",
              "      <td>1.4</td>\n",
              "      <td>0.2</td>\n",
              "      <td>Iris-setosa</td>\n",
              "    </tr>\n",
              "    <tr>\n",
              "      <th>3</th>\n",
              "      <td>4.7</td>\n",
              "      <td>3.2</td>\n",
              "      <td>1.3</td>\n",
              "      <td>0.2</td>\n",
              "      <td>Iris-setosa</td>\n",
              "    </tr>\n",
              "    <tr>\n",
              "      <th>4</th>\n",
              "      <td>4.6</td>\n",
              "      <td>3.1</td>\n",
              "      <td>1.5</td>\n",
              "      <td>0.2</td>\n",
              "      <td>Iris-setosa</td>\n",
              "    </tr>\n",
              "    <tr>\n",
              "      <th>5</th>\n",
              "      <td>5.0</td>\n",
              "      <td>3.6</td>\n",
              "      <td>1.4</td>\n",
              "      <td>0.2</td>\n",
              "      <td>Iris-setosa</td>\n",
              "    </tr>\n",
              "    <tr>\n",
              "      <th>...</th>\n",
              "      <td>...</td>\n",
              "      <td>...</td>\n",
              "      <td>...</td>\n",
              "      <td>...</td>\n",
              "      <td>...</td>\n",
              "    </tr>\n",
              "    <tr>\n",
              "      <th>146</th>\n",
              "      <td>6.7</td>\n",
              "      <td>3.0</td>\n",
              "      <td>5.2</td>\n",
              "      <td>2.3</td>\n",
              "      <td>Iris-virginica</td>\n",
              "    </tr>\n",
              "    <tr>\n",
              "      <th>147</th>\n",
              "      <td>6.3</td>\n",
              "      <td>2.5</td>\n",
              "      <td>5.0</td>\n",
              "      <td>1.9</td>\n",
              "      <td>Iris-virginica</td>\n",
              "    </tr>\n",
              "    <tr>\n",
              "      <th>148</th>\n",
              "      <td>6.5</td>\n",
              "      <td>3.0</td>\n",
              "      <td>5.2</td>\n",
              "      <td>2.0</td>\n",
              "      <td>Iris-virginica</td>\n",
              "    </tr>\n",
              "    <tr>\n",
              "      <th>149</th>\n",
              "      <td>6.2</td>\n",
              "      <td>3.4</td>\n",
              "      <td>5.4</td>\n",
              "      <td>2.3</td>\n",
              "      <td>Iris-virginica</td>\n",
              "    </tr>\n",
              "    <tr>\n",
              "      <th>150</th>\n",
              "      <td>5.9</td>\n",
              "      <td>3.0</td>\n",
              "      <td>5.1</td>\n",
              "      <td>1.8</td>\n",
              "      <td>Iris-virginica</td>\n",
              "    </tr>\n",
              "  </tbody>\n",
              "</table>\n",
              "<p>150 rows × 5 columns</p>\n",
              "</div>\n",
              "    <div class=\"colab-df-buttons\">\n",
              "\n",
              "  <div class=\"colab-df-container\">\n",
              "    <button class=\"colab-df-convert\" onclick=\"convertToInteractive('df-e25b2aee-ce95-438d-9248-2b0c805f1d86')\"\n",
              "            title=\"Convert this dataframe to an interactive table.\"\n",
              "            style=\"display:none;\">\n",
              "\n",
              "  <svg xmlns=\"http://www.w3.org/2000/svg\" height=\"24px\" viewBox=\"0 -960 960 960\">\n",
              "    <path d=\"M120-120v-720h720v720H120Zm60-500h600v-160H180v160Zm220 220h160v-160H400v160Zm0 220h160v-160H400v160ZM180-400h160v-160H180v160Zm440 0h160v-160H620v160ZM180-180h160v-160H180v160Zm440 0h160v-160H620v160Z\"/>\n",
              "  </svg>\n",
              "    </button>\n",
              "\n",
              "  <style>\n",
              "    .colab-df-container {\n",
              "      display:flex;\n",
              "      gap: 12px;\n",
              "    }\n",
              "\n",
              "    .colab-df-convert {\n",
              "      background-color: #E8F0FE;\n",
              "      border: none;\n",
              "      border-radius: 50%;\n",
              "      cursor: pointer;\n",
              "      display: none;\n",
              "      fill: #1967D2;\n",
              "      height: 32px;\n",
              "      padding: 0 0 0 0;\n",
              "      width: 32px;\n",
              "    }\n",
              "\n",
              "    .colab-df-convert:hover {\n",
              "      background-color: #E2EBFA;\n",
              "      box-shadow: 0px 1px 2px rgba(60, 64, 67, 0.3), 0px 1px 3px 1px rgba(60, 64, 67, 0.15);\n",
              "      fill: #174EA6;\n",
              "    }\n",
              "\n",
              "    .colab-df-buttons div {\n",
              "      margin-bottom: 4px;\n",
              "    }\n",
              "\n",
              "    [theme=dark] .colab-df-convert {\n",
              "      background-color: #3B4455;\n",
              "      fill: #D2E3FC;\n",
              "    }\n",
              "\n",
              "    [theme=dark] .colab-df-convert:hover {\n",
              "      background-color: #434B5C;\n",
              "      box-shadow: 0px 1px 3px 1px rgba(0, 0, 0, 0.15);\n",
              "      filter: drop-shadow(0px 1px 2px rgba(0, 0, 0, 0.3));\n",
              "      fill: #FFFFFF;\n",
              "    }\n",
              "  </style>\n",
              "\n",
              "    <script>\n",
              "      const buttonEl =\n",
              "        document.querySelector('#df-e25b2aee-ce95-438d-9248-2b0c805f1d86 button.colab-df-convert');\n",
              "      buttonEl.style.display =\n",
              "        google.colab.kernel.accessAllowed ? 'block' : 'none';\n",
              "\n",
              "      async function convertToInteractive(key) {\n",
              "        const element = document.querySelector('#df-e25b2aee-ce95-438d-9248-2b0c805f1d86');\n",
              "        const dataTable =\n",
              "          await google.colab.kernel.invokeFunction('convertToInteractive',\n",
              "                                                    [key], {});\n",
              "        if (!dataTable) return;\n",
              "\n",
              "        const docLinkHtml = 'Like what you see? Visit the ' +\n",
              "          '<a target=\"_blank\" href=https://colab.research.google.com/notebooks/data_table.ipynb>data table notebook</a>'\n",
              "          + ' to learn more about interactive tables.';\n",
              "        element.innerHTML = '';\n",
              "        dataTable['output_type'] = 'display_data';\n",
              "        await google.colab.output.renderOutput(dataTable, element);\n",
              "        const docLink = document.createElement('div');\n",
              "        docLink.innerHTML = docLinkHtml;\n",
              "        element.appendChild(docLink);\n",
              "      }\n",
              "    </script>\n",
              "  </div>\n",
              "\n",
              "\n",
              "    <div id=\"df-e0614544-99bb-4b98-b7a0-6e365aa01bf6\">\n",
              "      <button class=\"colab-df-quickchart\" onclick=\"quickchart('df-e0614544-99bb-4b98-b7a0-6e365aa01bf6')\"\n",
              "                title=\"Suggest charts\"\n",
              "                style=\"display:none;\">\n",
              "\n",
              "<svg xmlns=\"http://www.w3.org/2000/svg\" height=\"24px\"viewBox=\"0 0 24 24\"\n",
              "     width=\"24px\">\n",
              "    <g>\n",
              "        <path d=\"M19 3H5c-1.1 0-2 .9-2 2v14c0 1.1.9 2 2 2h14c1.1 0 2-.9 2-2V5c0-1.1-.9-2-2-2zM9 17H7v-7h2v7zm4 0h-2V7h2v10zm4 0h-2v-4h2v4z\"/>\n",
              "    </g>\n",
              "</svg>\n",
              "      </button>\n",
              "\n",
              "<style>\n",
              "  .colab-df-quickchart {\n",
              "      --bg-color: #E8F0FE;\n",
              "      --fill-color: #1967D2;\n",
              "      --hover-bg-color: #E2EBFA;\n",
              "      --hover-fill-color: #174EA6;\n",
              "      --disabled-fill-color: #AAA;\n",
              "      --disabled-bg-color: #DDD;\n",
              "  }\n",
              "\n",
              "  [theme=dark] .colab-df-quickchart {\n",
              "      --bg-color: #3B4455;\n",
              "      --fill-color: #D2E3FC;\n",
              "      --hover-bg-color: #434B5C;\n",
              "      --hover-fill-color: #FFFFFF;\n",
              "      --disabled-bg-color: #3B4455;\n",
              "      --disabled-fill-color: #666;\n",
              "  }\n",
              "\n",
              "  .colab-df-quickchart {\n",
              "    background-color: var(--bg-color);\n",
              "    border: none;\n",
              "    border-radius: 50%;\n",
              "    cursor: pointer;\n",
              "    display: none;\n",
              "    fill: var(--fill-color);\n",
              "    height: 32px;\n",
              "    padding: 0;\n",
              "    width: 32px;\n",
              "  }\n",
              "\n",
              "  .colab-df-quickchart:hover {\n",
              "    background-color: var(--hover-bg-color);\n",
              "    box-shadow: 0 1px 2px rgba(60, 64, 67, 0.3), 0 1px 3px 1px rgba(60, 64, 67, 0.15);\n",
              "    fill: var(--button-hover-fill-color);\n",
              "  }\n",
              "\n",
              "  .colab-df-quickchart-complete:disabled,\n",
              "  .colab-df-quickchart-complete:disabled:hover {\n",
              "    background-color: var(--disabled-bg-color);\n",
              "    fill: var(--disabled-fill-color);\n",
              "    box-shadow: none;\n",
              "  }\n",
              "\n",
              "  .colab-df-spinner {\n",
              "    border: 2px solid var(--fill-color);\n",
              "    border-color: transparent;\n",
              "    border-bottom-color: var(--fill-color);\n",
              "    animation:\n",
              "      spin 1s steps(1) infinite;\n",
              "  }\n",
              "\n",
              "  @keyframes spin {\n",
              "    0% {\n",
              "      border-color: transparent;\n",
              "      border-bottom-color: var(--fill-color);\n",
              "      border-left-color: var(--fill-color);\n",
              "    }\n",
              "    20% {\n",
              "      border-color: transparent;\n",
              "      border-left-color: var(--fill-color);\n",
              "      border-top-color: var(--fill-color);\n",
              "    }\n",
              "    30% {\n",
              "      border-color: transparent;\n",
              "      border-left-color: var(--fill-color);\n",
              "      border-top-color: var(--fill-color);\n",
              "      border-right-color: var(--fill-color);\n",
              "    }\n",
              "    40% {\n",
              "      border-color: transparent;\n",
              "      border-right-color: var(--fill-color);\n",
              "      border-top-color: var(--fill-color);\n",
              "    }\n",
              "    60% {\n",
              "      border-color: transparent;\n",
              "      border-right-color: var(--fill-color);\n",
              "    }\n",
              "    80% {\n",
              "      border-color: transparent;\n",
              "      border-right-color: var(--fill-color);\n",
              "      border-bottom-color: var(--fill-color);\n",
              "    }\n",
              "    90% {\n",
              "      border-color: transparent;\n",
              "      border-bottom-color: var(--fill-color);\n",
              "    }\n",
              "  }\n",
              "</style>\n",
              "\n",
              "      <script>\n",
              "        async function quickchart(key) {\n",
              "          const quickchartButtonEl =\n",
              "            document.querySelector('#' + key + ' button');\n",
              "          quickchartButtonEl.disabled = true;  // To prevent multiple clicks.\n",
              "          quickchartButtonEl.classList.add('colab-df-spinner');\n",
              "          try {\n",
              "            const charts = await google.colab.kernel.invokeFunction(\n",
              "                'suggestCharts', [key], {});\n",
              "          } catch (error) {\n",
              "            console.error('Error during call to suggestCharts:', error);\n",
              "          }\n",
              "          quickchartButtonEl.classList.remove('colab-df-spinner');\n",
              "          quickchartButtonEl.classList.add('colab-df-quickchart-complete');\n",
              "        }\n",
              "        (() => {\n",
              "          let quickchartButtonEl =\n",
              "            document.querySelector('#df-e0614544-99bb-4b98-b7a0-6e365aa01bf6 button');\n",
              "          quickchartButtonEl.style.display =\n",
              "            google.colab.kernel.accessAllowed ? 'block' : 'none';\n",
              "        })();\n",
              "      </script>\n",
              "    </div>\n",
              "\n",
              "  <div id=\"id_ec194090-e266-467a-8119-7201a352824d\">\n",
              "    <style>\n",
              "      .colab-df-generate {\n",
              "        background-color: #E8F0FE;\n",
              "        border: none;\n",
              "        border-radius: 50%;\n",
              "        cursor: pointer;\n",
              "        display: none;\n",
              "        fill: #1967D2;\n",
              "        height: 32px;\n",
              "        padding: 0 0 0 0;\n",
              "        width: 32px;\n",
              "      }\n",
              "\n",
              "      .colab-df-generate:hover {\n",
              "        background-color: #E2EBFA;\n",
              "        box-shadow: 0px 1px 2px rgba(60, 64, 67, 0.3), 0px 1px 3px 1px rgba(60, 64, 67, 0.15);\n",
              "        fill: #174EA6;\n",
              "      }\n",
              "\n",
              "      [theme=dark] .colab-df-generate {\n",
              "        background-color: #3B4455;\n",
              "        fill: #D2E3FC;\n",
              "      }\n",
              "\n",
              "      [theme=dark] .colab-df-generate:hover {\n",
              "        background-color: #434B5C;\n",
              "        box-shadow: 0px 1px 3px 1px rgba(0, 0, 0, 0.15);\n",
              "        filter: drop-shadow(0px 1px 2px rgba(0, 0, 0, 0.3));\n",
              "        fill: #FFFFFF;\n",
              "      }\n",
              "    </style>\n",
              "    <button class=\"colab-df-generate\" onclick=\"generateWithVariable('df_multi')\"\n",
              "            title=\"Generate code using this dataframe.\"\n",
              "            style=\"display:none;\">\n",
              "\n",
              "  <svg xmlns=\"http://www.w3.org/2000/svg\" height=\"24px\"viewBox=\"0 0 24 24\"\n",
              "       width=\"24px\">\n",
              "    <path d=\"M7,19H8.4L18.45,9,17,7.55,7,17.6ZM5,21V16.75L18.45,3.32a2,2,0,0,1,2.83,0l1.4,1.43a1.91,1.91,0,0,1,.58,1.4,1.91,1.91,0,0,1-.58,1.4L9.25,21ZM18.45,9,17,7.55Zm-12,3A5.31,5.31,0,0,0,4.9,8.1,5.31,5.31,0,0,0,1,6.5,5.31,5.31,0,0,0,4.9,4.9,5.31,5.31,0,0,0,6.5,1,5.31,5.31,0,0,0,8.1,4.9,5.31,5.31,0,0,0,12,6.5,5.46,5.46,0,0,0,6.5,12Z\"/>\n",
              "  </svg>\n",
              "    </button>\n",
              "    <script>\n",
              "      (() => {\n",
              "      const buttonEl =\n",
              "        document.querySelector('#id_ec194090-e266-467a-8119-7201a352824d button.colab-df-generate');\n",
              "      buttonEl.style.display =\n",
              "        google.colab.kernel.accessAllowed ? 'block' : 'none';\n",
              "\n",
              "      buttonEl.onclick = () => {\n",
              "        google.colab.notebook.generateWithVariable('df_multi');\n",
              "      }\n",
              "      })();\n",
              "    </script>\n",
              "  </div>\n",
              "\n",
              "    </div>\n",
              "  </div>\n"
            ],
            "application/vnd.google.colaboratory.intrinsic+json": {
              "type": "dataframe",
              "variable_name": "df_multi",
              "summary": "{\n  \"name\": \"df_multi\",\n  \"rows\": 150,\n  \"fields\": [\n    {\n      \"column\": \"sepal-length-in-cm\",\n      \"properties\": {\n        \"dtype\": \"number\",\n        \"std\": 0.8280661279778629,\n        \"min\": 4.3,\n        \"max\": 7.9,\n        \"num_unique_values\": 35,\n        \"samples\": [\n          6.2,\n          4.5,\n          5.6\n        ],\n        \"semantic_type\": \"\",\n        \"description\": \"\"\n      }\n    },\n    {\n      \"column\": \"sepal-width-in-cm\",\n      \"properties\": {\n        \"dtype\": \"number\",\n        \"std\": 0.4335943113621737,\n        \"min\": 2.0,\n        \"max\": 4.4,\n        \"num_unique_values\": 23,\n        \"samples\": [\n          2.3,\n          4.0,\n          3.5\n        ],\n        \"semantic_type\": \"\",\n        \"description\": \"\"\n      }\n    },\n    {\n      \"column\": \"petal-length-in-cm\",\n      \"properties\": {\n        \"dtype\": \"number\",\n        \"std\": 1.7644204199522617,\n        \"min\": 1.0,\n        \"max\": 6.9,\n        \"num_unique_values\": 43,\n        \"samples\": [\n          6.7,\n          3.8,\n          3.7\n        ],\n        \"semantic_type\": \"\",\n        \"description\": \"\"\n      }\n    },\n    {\n      \"column\": \"petal-width-in-cm\",\n      \"properties\": {\n        \"dtype\": \"number\",\n        \"std\": 0.7631607417008414,\n        \"min\": 0.1,\n        \"max\": 2.5,\n        \"num_unique_values\": 22,\n        \"samples\": [\n          0.2,\n          1.2,\n          1.3\n        ],\n        \"semantic_type\": \"\",\n        \"description\": \"\"\n      }\n    },\n    {\n      \"column\": \"class\",\n      \"properties\": {\n        \"dtype\": \"category\",\n        \"num_unique_values\": 3,\n        \"samples\": [\n          \"Iris-setosa\",\n          \"Iris-versicolor\",\n          \"Iris-virginica\"\n        ],\n        \"semantic_type\": \"\",\n        \"description\": \"\"\n      }\n    }\n  ]\n}"
            }
          },
          "metadata": {},
          "execution_count": 4
        }
      ]
    },
    {
      "cell_type": "code",
      "source": [
        "df_multi.info()"
      ],
      "metadata": {
        "id": "w4jgWfSPJoWC",
        "outputId": "6986390f-e660-4e01-e778-5dd5e3a82b43",
        "colab": {
          "base_uri": "https://localhost:8080/"
        }
      },
      "execution_count": 5,
      "outputs": [
        {
          "output_type": "stream",
          "name": "stdout",
          "text": [
            "<class 'pandas.core.frame.DataFrame'>\n",
            "RangeIndex: 150 entries, 1 to 150\n",
            "Data columns (total 5 columns):\n",
            " #   Column              Non-Null Count  Dtype  \n",
            "---  ------              --------------  -----  \n",
            " 0   sepal-length-in-cm  150 non-null    float64\n",
            " 1   sepal-width-in-cm   150 non-null    float64\n",
            " 2   petal-length-in-cm  150 non-null    float64\n",
            " 3   petal-width-in-cm   150 non-null    float64\n",
            " 4   class               150 non-null    object \n",
            "dtypes: float64(4), object(1)\n",
            "memory usage: 6.0+ KB\n"
          ]
        }
      ]
    },
    {
      "cell_type": "code",
      "source": [
        "# Preprocessing\n",
        "# Encoding\n",
        "from sklearn import preprocessing\n",
        "\n",
        "label_encoder = preprocessing.LabelEncoder()\n",
        "df_multi['class']= label_encoder.fit_transform(df_multi['class'])\n",
        "\n",
        "df_multi['class'].unique()"
      ],
      "metadata": {
        "id": "rcWWM1-WH-f1",
        "outputId": "87e191e6-e64e-4bc8-a2fd-a375596b0176",
        "colab": {
          "base_uri": "https://localhost:8080/"
        }
      },
      "execution_count": 6,
      "outputs": [
        {
          "output_type": "execute_result",
          "data": {
            "text/plain": [
              "array([0, 1, 2])"
            ]
          },
          "metadata": {},
          "execution_count": 6
        }
      ]
    },
    {
      "cell_type": "code",
      "source": [
        "X = df_multi[col_x]\n",
        "y = df_multi['class']"
      ],
      "metadata": {
        "id": "1bwH6-7VIR6e"
      },
      "execution_count": 7,
      "outputs": []
    },
    {
      "cell_type": "code",
      "source": [
        "from sklearn.preprocessing import StandardScaler\n",
        "\n",
        "# Initialize the scaler\n",
        "standard_scaler = StandardScaler()\n",
        "\n",
        "# Fit and transform the data\n",
        "X = pd.DataFrame(standard_scaler.fit_transform(X), columns=X.columns)\n",
        "X"
      ],
      "metadata": {
        "id": "pM7zFfCnJB7i",
        "outputId": "85ff384f-01c7-4a5a-95ee-8fdc87f77e0a",
        "colab": {
          "base_uri": "https://localhost:8080/",
          "height": 423
        }
      },
      "execution_count": 8,
      "outputs": [
        {
          "output_type": "execute_result",
          "data": {
            "text/plain": [
              "0    sepal-length-in-cm  sepal-width-in-cm  petal-length-in-cm  \\\n",
              "0             -0.900681           1.032057           -1.341272   \n",
              "1             -1.143017          -0.124958           -1.341272   \n",
              "2             -1.385353           0.337848           -1.398138   \n",
              "3             -1.506521           0.106445           -1.284407   \n",
              "4             -1.021849           1.263460           -1.341272   \n",
              "..                  ...                ...                 ...   \n",
              "145            1.038005          -0.124958            0.819624   \n",
              "146            0.553333          -1.281972            0.705893   \n",
              "147            0.795669          -0.124958            0.819624   \n",
              "148            0.432165           0.800654            0.933356   \n",
              "149            0.068662          -0.124958            0.762759   \n",
              "\n",
              "0    petal-width-in-cm  \n",
              "0            -1.312977  \n",
              "1            -1.312977  \n",
              "2            -1.312977  \n",
              "3            -1.312977  \n",
              "4            -1.312977  \n",
              "..                 ...  \n",
              "145           1.447956  \n",
              "146           0.922064  \n",
              "147           1.053537  \n",
              "148           1.447956  \n",
              "149           0.790591  \n",
              "\n",
              "[150 rows x 4 columns]"
            ],
            "text/html": [
              "\n",
              "  <div id=\"df-4a579fb3-5587-4989-837c-5e52740f613a\" class=\"colab-df-container\">\n",
              "    <div>\n",
              "<style scoped>\n",
              "    .dataframe tbody tr th:only-of-type {\n",
              "        vertical-align: middle;\n",
              "    }\n",
              "\n",
              "    .dataframe tbody tr th {\n",
              "        vertical-align: top;\n",
              "    }\n",
              "\n",
              "    .dataframe thead th {\n",
              "        text-align: right;\n",
              "    }\n",
              "</style>\n",
              "<table border=\"1\" class=\"dataframe\">\n",
              "  <thead>\n",
              "    <tr style=\"text-align: right;\">\n",
              "      <th></th>\n",
              "      <th>sepal-length-in-cm</th>\n",
              "      <th>sepal-width-in-cm</th>\n",
              "      <th>petal-length-in-cm</th>\n",
              "      <th>petal-width-in-cm</th>\n",
              "    </tr>\n",
              "  </thead>\n",
              "  <tbody>\n",
              "    <tr>\n",
              "      <th>0</th>\n",
              "      <td>-0.900681</td>\n",
              "      <td>1.032057</td>\n",
              "      <td>-1.341272</td>\n",
              "      <td>-1.312977</td>\n",
              "    </tr>\n",
              "    <tr>\n",
              "      <th>1</th>\n",
              "      <td>-1.143017</td>\n",
              "      <td>-0.124958</td>\n",
              "      <td>-1.341272</td>\n",
              "      <td>-1.312977</td>\n",
              "    </tr>\n",
              "    <tr>\n",
              "      <th>2</th>\n",
              "      <td>-1.385353</td>\n",
              "      <td>0.337848</td>\n",
              "      <td>-1.398138</td>\n",
              "      <td>-1.312977</td>\n",
              "    </tr>\n",
              "    <tr>\n",
              "      <th>3</th>\n",
              "      <td>-1.506521</td>\n",
              "      <td>0.106445</td>\n",
              "      <td>-1.284407</td>\n",
              "      <td>-1.312977</td>\n",
              "    </tr>\n",
              "    <tr>\n",
              "      <th>4</th>\n",
              "      <td>-1.021849</td>\n",
              "      <td>1.263460</td>\n",
              "      <td>-1.341272</td>\n",
              "      <td>-1.312977</td>\n",
              "    </tr>\n",
              "    <tr>\n",
              "      <th>...</th>\n",
              "      <td>...</td>\n",
              "      <td>...</td>\n",
              "      <td>...</td>\n",
              "      <td>...</td>\n",
              "    </tr>\n",
              "    <tr>\n",
              "      <th>145</th>\n",
              "      <td>1.038005</td>\n",
              "      <td>-0.124958</td>\n",
              "      <td>0.819624</td>\n",
              "      <td>1.447956</td>\n",
              "    </tr>\n",
              "    <tr>\n",
              "      <th>146</th>\n",
              "      <td>0.553333</td>\n",
              "      <td>-1.281972</td>\n",
              "      <td>0.705893</td>\n",
              "      <td>0.922064</td>\n",
              "    </tr>\n",
              "    <tr>\n",
              "      <th>147</th>\n",
              "      <td>0.795669</td>\n",
              "      <td>-0.124958</td>\n",
              "      <td>0.819624</td>\n",
              "      <td>1.053537</td>\n",
              "    </tr>\n",
              "    <tr>\n",
              "      <th>148</th>\n",
              "      <td>0.432165</td>\n",
              "      <td>0.800654</td>\n",
              "      <td>0.933356</td>\n",
              "      <td>1.447956</td>\n",
              "    </tr>\n",
              "    <tr>\n",
              "      <th>149</th>\n",
              "      <td>0.068662</td>\n",
              "      <td>-0.124958</td>\n",
              "      <td>0.762759</td>\n",
              "      <td>0.790591</td>\n",
              "    </tr>\n",
              "  </tbody>\n",
              "</table>\n",
              "<p>150 rows × 4 columns</p>\n",
              "</div>\n",
              "    <div class=\"colab-df-buttons\">\n",
              "\n",
              "  <div class=\"colab-df-container\">\n",
              "    <button class=\"colab-df-convert\" onclick=\"convertToInteractive('df-4a579fb3-5587-4989-837c-5e52740f613a')\"\n",
              "            title=\"Convert this dataframe to an interactive table.\"\n",
              "            style=\"display:none;\">\n",
              "\n",
              "  <svg xmlns=\"http://www.w3.org/2000/svg\" height=\"24px\" viewBox=\"0 -960 960 960\">\n",
              "    <path d=\"M120-120v-720h720v720H120Zm60-500h600v-160H180v160Zm220 220h160v-160H400v160Zm0 220h160v-160H400v160ZM180-400h160v-160H180v160Zm440 0h160v-160H620v160ZM180-180h160v-160H180v160Zm440 0h160v-160H620v160Z\"/>\n",
              "  </svg>\n",
              "    </button>\n",
              "\n",
              "  <style>\n",
              "    .colab-df-container {\n",
              "      display:flex;\n",
              "      gap: 12px;\n",
              "    }\n",
              "\n",
              "    .colab-df-convert {\n",
              "      background-color: #E8F0FE;\n",
              "      border: none;\n",
              "      border-radius: 50%;\n",
              "      cursor: pointer;\n",
              "      display: none;\n",
              "      fill: #1967D2;\n",
              "      height: 32px;\n",
              "      padding: 0 0 0 0;\n",
              "      width: 32px;\n",
              "    }\n",
              "\n",
              "    .colab-df-convert:hover {\n",
              "      background-color: #E2EBFA;\n",
              "      box-shadow: 0px 1px 2px rgba(60, 64, 67, 0.3), 0px 1px 3px 1px rgba(60, 64, 67, 0.15);\n",
              "      fill: #174EA6;\n",
              "    }\n",
              "\n",
              "    .colab-df-buttons div {\n",
              "      margin-bottom: 4px;\n",
              "    }\n",
              "\n",
              "    [theme=dark] .colab-df-convert {\n",
              "      background-color: #3B4455;\n",
              "      fill: #D2E3FC;\n",
              "    }\n",
              "\n",
              "    [theme=dark] .colab-df-convert:hover {\n",
              "      background-color: #434B5C;\n",
              "      box-shadow: 0px 1px 3px 1px rgba(0, 0, 0, 0.15);\n",
              "      filter: drop-shadow(0px 1px 2px rgba(0, 0, 0, 0.3));\n",
              "      fill: #FFFFFF;\n",
              "    }\n",
              "  </style>\n",
              "\n",
              "    <script>\n",
              "      const buttonEl =\n",
              "        document.querySelector('#df-4a579fb3-5587-4989-837c-5e52740f613a button.colab-df-convert');\n",
              "      buttonEl.style.display =\n",
              "        google.colab.kernel.accessAllowed ? 'block' : 'none';\n",
              "\n",
              "      async function convertToInteractive(key) {\n",
              "        const element = document.querySelector('#df-4a579fb3-5587-4989-837c-5e52740f613a');\n",
              "        const dataTable =\n",
              "          await google.colab.kernel.invokeFunction('convertToInteractive',\n",
              "                                                    [key], {});\n",
              "        if (!dataTable) return;\n",
              "\n",
              "        const docLinkHtml = 'Like what you see? Visit the ' +\n",
              "          '<a target=\"_blank\" href=https://colab.research.google.com/notebooks/data_table.ipynb>data table notebook</a>'\n",
              "          + ' to learn more about interactive tables.';\n",
              "        element.innerHTML = '';\n",
              "        dataTable['output_type'] = 'display_data';\n",
              "        await google.colab.output.renderOutput(dataTable, element);\n",
              "        const docLink = document.createElement('div');\n",
              "        docLink.innerHTML = docLinkHtml;\n",
              "        element.appendChild(docLink);\n",
              "      }\n",
              "    </script>\n",
              "  </div>\n",
              "\n",
              "\n",
              "    <div id=\"df-34ad381b-a7d4-40f6-a945-0b9300c13323\">\n",
              "      <button class=\"colab-df-quickchart\" onclick=\"quickchart('df-34ad381b-a7d4-40f6-a945-0b9300c13323')\"\n",
              "                title=\"Suggest charts\"\n",
              "                style=\"display:none;\">\n",
              "\n",
              "<svg xmlns=\"http://www.w3.org/2000/svg\" height=\"24px\"viewBox=\"0 0 24 24\"\n",
              "     width=\"24px\">\n",
              "    <g>\n",
              "        <path d=\"M19 3H5c-1.1 0-2 .9-2 2v14c0 1.1.9 2 2 2h14c1.1 0 2-.9 2-2V5c0-1.1-.9-2-2-2zM9 17H7v-7h2v7zm4 0h-2V7h2v10zm4 0h-2v-4h2v4z\"/>\n",
              "    </g>\n",
              "</svg>\n",
              "      </button>\n",
              "\n",
              "<style>\n",
              "  .colab-df-quickchart {\n",
              "      --bg-color: #E8F0FE;\n",
              "      --fill-color: #1967D2;\n",
              "      --hover-bg-color: #E2EBFA;\n",
              "      --hover-fill-color: #174EA6;\n",
              "      --disabled-fill-color: #AAA;\n",
              "      --disabled-bg-color: #DDD;\n",
              "  }\n",
              "\n",
              "  [theme=dark] .colab-df-quickchart {\n",
              "      --bg-color: #3B4455;\n",
              "      --fill-color: #D2E3FC;\n",
              "      --hover-bg-color: #434B5C;\n",
              "      --hover-fill-color: #FFFFFF;\n",
              "      --disabled-bg-color: #3B4455;\n",
              "      --disabled-fill-color: #666;\n",
              "  }\n",
              "\n",
              "  .colab-df-quickchart {\n",
              "    background-color: var(--bg-color);\n",
              "    border: none;\n",
              "    border-radius: 50%;\n",
              "    cursor: pointer;\n",
              "    display: none;\n",
              "    fill: var(--fill-color);\n",
              "    height: 32px;\n",
              "    padding: 0;\n",
              "    width: 32px;\n",
              "  }\n",
              "\n",
              "  .colab-df-quickchart:hover {\n",
              "    background-color: var(--hover-bg-color);\n",
              "    box-shadow: 0 1px 2px rgba(60, 64, 67, 0.3), 0 1px 3px 1px rgba(60, 64, 67, 0.15);\n",
              "    fill: var(--button-hover-fill-color);\n",
              "  }\n",
              "\n",
              "  .colab-df-quickchart-complete:disabled,\n",
              "  .colab-df-quickchart-complete:disabled:hover {\n",
              "    background-color: var(--disabled-bg-color);\n",
              "    fill: var(--disabled-fill-color);\n",
              "    box-shadow: none;\n",
              "  }\n",
              "\n",
              "  .colab-df-spinner {\n",
              "    border: 2px solid var(--fill-color);\n",
              "    border-color: transparent;\n",
              "    border-bottom-color: var(--fill-color);\n",
              "    animation:\n",
              "      spin 1s steps(1) infinite;\n",
              "  }\n",
              "\n",
              "  @keyframes spin {\n",
              "    0% {\n",
              "      border-color: transparent;\n",
              "      border-bottom-color: var(--fill-color);\n",
              "      border-left-color: var(--fill-color);\n",
              "    }\n",
              "    20% {\n",
              "      border-color: transparent;\n",
              "      border-left-color: var(--fill-color);\n",
              "      border-top-color: var(--fill-color);\n",
              "    }\n",
              "    30% {\n",
              "      border-color: transparent;\n",
              "      border-left-color: var(--fill-color);\n",
              "      border-top-color: var(--fill-color);\n",
              "      border-right-color: var(--fill-color);\n",
              "    }\n",
              "    40% {\n",
              "      border-color: transparent;\n",
              "      border-right-color: var(--fill-color);\n",
              "      border-top-color: var(--fill-color);\n",
              "    }\n",
              "    60% {\n",
              "      border-color: transparent;\n",
              "      border-right-color: var(--fill-color);\n",
              "    }\n",
              "    80% {\n",
              "      border-color: transparent;\n",
              "      border-right-color: var(--fill-color);\n",
              "      border-bottom-color: var(--fill-color);\n",
              "    }\n",
              "    90% {\n",
              "      border-color: transparent;\n",
              "      border-bottom-color: var(--fill-color);\n",
              "    }\n",
              "  }\n",
              "</style>\n",
              "\n",
              "      <script>\n",
              "        async function quickchart(key) {\n",
              "          const quickchartButtonEl =\n",
              "            document.querySelector('#' + key + ' button');\n",
              "          quickchartButtonEl.disabled = true;  // To prevent multiple clicks.\n",
              "          quickchartButtonEl.classList.add('colab-df-spinner');\n",
              "          try {\n",
              "            const charts = await google.colab.kernel.invokeFunction(\n",
              "                'suggestCharts', [key], {});\n",
              "          } catch (error) {\n",
              "            console.error('Error during call to suggestCharts:', error);\n",
              "          }\n",
              "          quickchartButtonEl.classList.remove('colab-df-spinner');\n",
              "          quickchartButtonEl.classList.add('colab-df-quickchart-complete');\n",
              "        }\n",
              "        (() => {\n",
              "          let quickchartButtonEl =\n",
              "            document.querySelector('#df-34ad381b-a7d4-40f6-a945-0b9300c13323 button');\n",
              "          quickchartButtonEl.style.display =\n",
              "            google.colab.kernel.accessAllowed ? 'block' : 'none';\n",
              "        })();\n",
              "      </script>\n",
              "    </div>\n",
              "\n",
              "  <div id=\"id_3a3c3795-48cd-4e08-9305-96f8ff8fa600\">\n",
              "    <style>\n",
              "      .colab-df-generate {\n",
              "        background-color: #E8F0FE;\n",
              "        border: none;\n",
              "        border-radius: 50%;\n",
              "        cursor: pointer;\n",
              "        display: none;\n",
              "        fill: #1967D2;\n",
              "        height: 32px;\n",
              "        padding: 0 0 0 0;\n",
              "        width: 32px;\n",
              "      }\n",
              "\n",
              "      .colab-df-generate:hover {\n",
              "        background-color: #E2EBFA;\n",
              "        box-shadow: 0px 1px 2px rgba(60, 64, 67, 0.3), 0px 1px 3px 1px rgba(60, 64, 67, 0.15);\n",
              "        fill: #174EA6;\n",
              "      }\n",
              "\n",
              "      [theme=dark] .colab-df-generate {\n",
              "        background-color: #3B4455;\n",
              "        fill: #D2E3FC;\n",
              "      }\n",
              "\n",
              "      [theme=dark] .colab-df-generate:hover {\n",
              "        background-color: #434B5C;\n",
              "        box-shadow: 0px 1px 3px 1px rgba(0, 0, 0, 0.15);\n",
              "        filter: drop-shadow(0px 1px 2px rgba(0, 0, 0, 0.3));\n",
              "        fill: #FFFFFF;\n",
              "      }\n",
              "    </style>\n",
              "    <button class=\"colab-df-generate\" onclick=\"generateWithVariable('X')\"\n",
              "            title=\"Generate code using this dataframe.\"\n",
              "            style=\"display:none;\">\n",
              "\n",
              "  <svg xmlns=\"http://www.w3.org/2000/svg\" height=\"24px\"viewBox=\"0 0 24 24\"\n",
              "       width=\"24px\">\n",
              "    <path d=\"M7,19H8.4L18.45,9,17,7.55,7,17.6ZM5,21V16.75L18.45,3.32a2,2,0,0,1,2.83,0l1.4,1.43a1.91,1.91,0,0,1,.58,1.4,1.91,1.91,0,0,1-.58,1.4L9.25,21ZM18.45,9,17,7.55Zm-12,3A5.31,5.31,0,0,0,4.9,8.1,5.31,5.31,0,0,0,1,6.5,5.31,5.31,0,0,0,4.9,4.9,5.31,5.31,0,0,0,6.5,1,5.31,5.31,0,0,0,8.1,4.9,5.31,5.31,0,0,0,12,6.5,5.46,5.46,0,0,0,6.5,12Z\"/>\n",
              "  </svg>\n",
              "    </button>\n",
              "    <script>\n",
              "      (() => {\n",
              "      const buttonEl =\n",
              "        document.querySelector('#id_3a3c3795-48cd-4e08-9305-96f8ff8fa600 button.colab-df-generate');\n",
              "      buttonEl.style.display =\n",
              "        google.colab.kernel.accessAllowed ? 'block' : 'none';\n",
              "\n",
              "      buttonEl.onclick = () => {\n",
              "        google.colab.notebook.generateWithVariable('X');\n",
              "      }\n",
              "      })();\n",
              "    </script>\n",
              "  </div>\n",
              "\n",
              "    </div>\n",
              "  </div>\n"
            ],
            "application/vnd.google.colaboratory.intrinsic+json": {
              "type": "dataframe",
              "variable_name": "X",
              "summary": "{\n  \"name\": \"X\",\n  \"rows\": 150,\n  \"fields\": [\n    {\n      \"column\": \"sepal-length-in-cm\",\n      \"properties\": {\n        \"dtype\": \"number\",\n        \"std\": 1.0033500931359767,\n        \"min\": -1.870024133847019,\n        \"max\": 2.4920192021244283,\n        \"num_unique_values\": 35,\n        \"samples\": [\n          0.432165404582356,\n          -1.6276883929597161,\n          -0.29484181807955234\n        ],\n        \"semantic_type\": \"\",\n        \"description\": \"\"\n      }\n    },\n    {\n      \"column\": \"sepal-width-in-cm\",\n      \"properties\": {\n        \"dtype\": \"number\",\n        \"std\": 1.0033500931359767,\n        \"min\": -2.438987252491841,\n        \"max\": 3.1146839106774356,\n        \"num_unique_values\": 23,\n        \"samples\": [\n          -1.7447783570956819,\n          2.1890720501492225,\n          1.0320572244889565\n        ],\n        \"semantic_type\": \"\",\n        \"description\": \"\"\n      }\n    },\n    {\n      \"column\": \"petal-length-in-cm\",\n      \"properties\": {\n        \"dtype\": \"number\",\n        \"std\": 1.0033500931359765,\n        \"min\": -1.5687352207168408,\n        \"max\": 1.7863413146490472,\n        \"num_unique_values\": 43,\n        \"samples\": [\n          1.6726099066705424,\n          0.02350449098222449,\n          -0.03336121300702764\n        ],\n        \"semantic_type\": \"\",\n        \"description\": \"\"\n      }\n    },\n    {\n      \"column\": \"petal-width-in-cm\",\n      \"properties\": {\n        \"dtype\": \"number\",\n        \"std\": 1.0033500931359767,\n        \"min\": -1.4444496972795189,\n        \"max\": 1.7109015831854495,\n        \"num_unique_values\": 22,\n        \"samples\": [\n          -1.3129767272601454,\n          0.001752972933591456,\n          0.13322594295296525\n        ],\n        \"semantic_type\": \"\",\n        \"description\": \"\"\n      }\n    }\n  ]\n}"
            }
          },
          "metadata": {},
          "execution_count": 8
        }
      ]
    },
    {
      "cell_type": "code",
      "source": [
        "X, y = X.to_numpy(), y.to_numpy()"
      ],
      "metadata": {
        "id": "N8K_qt1iJB7i"
      },
      "execution_count": 9,
      "outputs": []
    },
    {
      "cell_type": "code",
      "source": [
        "# Split data into train and test\n",
        "from sklearn.model_selection import train_test_split\n",
        "\n",
        "X_train, X_test, y_train, y_test = train_test_split(X,y ,\n",
        "                                   random_state=104,\n",
        "                                   test_size=0.25,\n",
        "                                   shuffle=True)"
      ],
      "metadata": {
        "id": "7N1f3wMVJB7i"
      },
      "execution_count": 10,
      "outputs": []
    },
    {
      "cell_type": "markdown",
      "source": [
        "## **Using the softmax model made from scratch and training it**"
      ],
      "metadata": {
        "id": "ZafTG7HiK4zC"
      }
    },
    {
      "cell_type": "code",
      "source": [
        "# Initialize\n",
        "softmax_scratch = Softmax(X_train, y_train, 0.5)\n",
        "# Train\n",
        "softmax_scratch.train(epoch=1000)"
      ],
      "metadata": {
        "id": "3z6VqVoLLB92"
      },
      "execution_count": null,
      "outputs": []
    },
    {
      "cell_type": "code",
      "source": [
        "output = softmax_scratch.predict(X_test)\n",
        "acc = np.mean(output == y_test)\n",
        "\n",
        "print(f\"Accuracy of the softmax made by myself is : {acc}\")"
      ],
      "metadata": {
        "id": "BBs1ekgaqdSY"
      },
      "execution_count": null,
      "outputs": []
    },
    {
      "cell_type": "markdown",
      "source": [
        "## **Comparing it with the sklearn softmax regression model**"
      ],
      "metadata": {
        "id": "uB3cXe4OsfB1"
      }
    },
    {
      "cell_type": "code",
      "source": [
        "from sklearn.linear_model import LogisticRegression\n",
        "from sklearn.metrics import accuracy_score\n",
        "\n",
        "# Create the softmax regression model\n",
        "model = LogisticRegression(multi_class='multinomial', solver='lbfgs', max_iter=50)\n",
        "\n",
        "# Fit the model\n",
        "model.fit(X_train, y_train)\n",
        "\n",
        "# Predict on the test set\n",
        "y_pred = model.predict(X_test)\n",
        "\n",
        "output = model.predict(X_test)\n",
        "acc = np.mean(output == y_test)\n",
        "\n",
        "print(f\"Accuracy of the softmax made by sklearn is : {acc}\")"
      ],
      "metadata": {
        "id": "U4my7n7QJB7i",
        "colab": {
          "base_uri": "https://localhost:8080/"
        },
        "outputId": "5acba0b0-267f-4f92-ca26-f311e76af1d8"
      },
      "execution_count": null,
      "outputs": [
        {
          "output_type": "stream",
          "name": "stderr",
          "text": [
            "/usr/local/lib/python3.11/dist-packages/sklearn/linear_model/_logistic.py:1247: FutureWarning: 'multi_class' was deprecated in version 1.5 and will be removed in 1.7. From then on, it will always use 'multinomial'. Leave it to its default value to avoid this warning.\n",
            "  warnings.warn(\n"
          ]
        },
        {
          "output_type": "stream",
          "name": "stdout",
          "text": [
            "Accuracy of the softmax made by sklearn is : 1.0\n"
          ]
        }
      ]
    },
    {
      "cell_type": "code",
      "source": [
        "import numpy as np\n",
        "\n",
        "# First matrix: random integers from 0 to 10\n",
        "matrix1 = np.random.randint(0, 11, size=(10, 1))\n",
        "\n",
        "# Second matrix: random 0 or 1\n",
        "matrix2 = np.random.randint(0, 2, size=(10, 1))\n",
        "\n",
        "print(\"Matrix 1:\\n\", matrix1)\n",
        "print(\"\\nMatrix 2:\\n\", matrix2)"
      ],
      "metadata": {
        "colab": {
          "base_uri": "https://localhost:8080/"
        },
        "id": "nHbvyqjvdQaK",
        "outputId": "e2d1b512-f83a-497f-b837-501a7a82a322"
      },
      "execution_count": 15,
      "outputs": [
        {
          "output_type": "stream",
          "name": "stdout",
          "text": [
            "Matrix 1:\n",
            " [[4]\n",
            " [7]\n",
            " [0]\n",
            " [9]\n",
            " [9]\n",
            " [5]\n",
            " [5]\n",
            " [7]\n",
            " [7]\n",
            " [8]]\n",
            "\n",
            "Matrix 2:\n",
            " [[1]\n",
            " [0]\n",
            " [0]\n",
            " [0]\n",
            " [1]\n",
            " [1]\n",
            " [1]\n",
            " [1]\n",
            " [1]\n",
            " [0]]\n"
          ]
        }
      ]
    },
    {
      "cell_type": "code",
      "source": [
        "# import numpy as np\n",
        "matrix1[np.where(matrix2 == 0)[0]]"
      ],
      "metadata": {
        "colab": {
          "base_uri": "https://localhost:8080/"
        },
        "id": "WenVh7x0dRRN",
        "outputId": "8c1ca0dd-109f-4c33-8bcf-eb23a8747d27"
      },
      "execution_count": 19,
      "outputs": [
        {
          "output_type": "execute_result",
          "data": {
            "text/plain": [
              "array([[7],\n",
              "       [0],\n",
              "       [9],\n",
              "       [8]])"
            ]
          },
          "metadata": {},
          "execution_count": 19
        }
      ]
    },
    {
      "cell_type": "code",
      "source": [
        "np.sum(matrix1, axis=1)"
      ],
      "metadata": {
        "colab": {
          "base_uri": "https://localhost:8080/"
        },
        "id": "i6GX88ICkayN",
        "outputId": "52f9761d-c089-4084-b538-59abdc6c6ee1"
      },
      "execution_count": 60,
      "outputs": [
        {
          "output_type": "execute_result",
          "data": {
            "text/plain": [
              "array([4, 7, 0, 9, 9, 5, 5, 7, 7, 8])"
            ]
          },
          "metadata": {},
          "execution_count": 60
        }
      ]
    },
    {
      "cell_type": "code",
      "source": [
        "np.zeros(5)"
      ],
      "metadata": {
        "id": "YKqMjhZzuakR",
        "outputId": "ef15e5de-7563-4bc3-af4e-9f76ad6374f4",
        "colab": {
          "base_uri": "https://localhost:8080/"
        }
      },
      "execution_count": 104,
      "outputs": [
        {
          "output_type": "execute_result",
          "data": {
            "text/plain": [
              "array([0., 0., 0., 0., 0.])"
            ]
          },
          "metadata": {},
          "execution_count": 104
        }
      ]
    },
    {
      "cell_type": "markdown",
      "source": [
        "## **Generative Learning Algorithms**"
      ],
      "metadata": {
        "id": "254XUFHbZpmC"
      }
    },
    {
      "cell_type": "code",
      "source": [
        "class GDA:\n",
        "  def __init__(self, X, y=None, lr=0.01):\n",
        "    # Params untuk menyimpan parameter dan gradientnya\n",
        "    self.params = {}\n",
        "\n",
        "    # inisiasi parameter\n",
        "    # Menambah col baru dengan semua isinya bernilai 1 ke x\n",
        "    # yang digunakan agar kita memiliki intercept di rumus linear regresi\n",
        "    # yang menggunakan vector form\n",
        "    self.X = np.concatenate((np.ones([np.shape(X)[0], 1]), X),axis=1)\n",
        "    self.y = y\n",
        "    # learning rate sebagai konstanta belajar seberapa cepat mengupdate gradient\n",
        "    self.lr = lr\n",
        "    # Inisiasi parameter linear regresi dengan menggunakan nilai random\n",
        "    self.params['W'] = np.random.rand(len(np.unique(y)), self.X.shape[1])\n",
        "\n",
        "  def predict(self, X, mode=\"test\"):\n",
        "    \"\"\"Untuk Prediksi y Berdasarkan input X menggunakan model linear regresi\"\"\"\n",
        "    if mode == \"test\":\n",
        "      # Menambah col baru dengan semua isinya bernilai 1 ke x\n",
        "      # yang digunakan agar kita memiliki intercept di rumus linear regresi\n",
        "      # yang menggunakan vector form\n",
        "      print('sblm x')\n",
        "      X = np.concatenate((np.ones([np.shape(X)[0], 1]), X),axis=1)\n",
        "      print('hbs x')\n",
        "      output = self.forward(X)\n",
        "      print('hbs fwd')\n",
        "      return output\n",
        "    # Memprediksi y berdasarkan X menggunakan model yang sudah dibuat\n",
        "    # output = self.forward(X, mode)\n",
        "    # output = self.softmax(output)\n",
        "    return output\n",
        "\n",
        "  def forward(self, X):\n",
        "    num_train = X.shape[0]\n",
        "    output = np.zeros(np.shape(num_train))\n",
        "    for i in range(num_train):\n",
        "      print(f\"X shape : {X.shape}\")\n",
        "      cov1st = (X[i] - self.params['mu_0']).T\n",
        "      print(f\"cov1st shape : {cov1st.shape}\")\n",
        "      print(f\"hbs cov\")\n",
        "      sigma_inv = np.linalg.inv(self.params['sigma'])\n",
        "      print(f\"hbs simga inv\")\n",
        "      cov2nd = (X[i] - self.params['mu_0'])\n",
        "      print(f\"hbs cov2nd\")\n",
        "      tes = cov1st * sigma_inv\n",
        "      print('hbs yo')\n",
        "      exp_1st = -1/2 * (X[i] - self.params['mu_0']).T @ np.linalg.inv(self.params['sigma']) @ (X[i] - self.params['mu_0'])\n",
        "      print('hbs 1st')\n",
        "      exp_2nd = 1/2 * (X[i] - self.params['mu_1']).T @ np.linalg.inv(self.params['sigma']) @ (X - self.params['mu_1'])\n",
        "      exp_3rd = np.log(((1 - self.params['phi']) / self.params['mu_1']))\n",
        "      exp = np.exp(exp_1st + exp_2nd + exp_3rd)\n",
        "      output = 1 / (1 + exp)\n",
        "    return output\n",
        "\n",
        "\n",
        "  def calculate(self, X, y):\n",
        "    \"\"\"Untuk kalkulasi gradien output dan least square dari model\"\"\"\n",
        "    # Mendapatkan output dari linear regresi\n",
        "    # num_train = X.shape[0]\n",
        "    # output = self.predict(X, mode=mode)\n",
        "    # theta = output\n",
        "    # f = theta - np.max(theta, axis=1, keepdims=True)\n",
        "    # scores = np.exp(f) / np.sum(np.exp(f), axis=1, keepdims=True)\n",
        "    # true_scores = scores[np.arange(num_train).flatten(), y.flatten()]\n",
        "    # loss = -np.sum(np.log(true_scores)) / num_train\n",
        "\n",
        "\n",
        "    # Training menggunakan gradient descent\n",
        "    # Menghitung loss menggunakan output dan y\n",
        "    num_train = len(y)\n",
        "\n",
        "\n",
        "    # Menentukan solver type gradient descent atau metode least square\n",
        "\n",
        "      # Menghitung gradient menggunakan rumus dibawah\n",
        "    self.params['phi'] = np.sum(y) / num_train\n",
        "    list_x_0 = np.where(y == 1)[0]\n",
        "    self.params['X_0'] = X[list_x_0]\n",
        "    list_x_1 = np.where(y == 1)[0]\n",
        "    self.params['X_1'] = X[list_x_1]\n",
        "    self.params['mu_0'] = np.sum(self.params['X_0'], axis=0) / len(self.params['X_0'])\n",
        "    self.params['mu_1'] = np.sum(self.params['X_1'], axis=0) / len(self.params['X_1'])\n",
        "    # self.params['sigma'] = (self.params['X_0'] - self.params['mu_0']) @ (self.params['X_0'] - self.params['mu_0']).T\n",
        "    d = int(np.shape(X[0])[0])\n",
        "    sum_cov0 = np.zeros((d, d))\n",
        "\n",
        "    for i in list_x_0:\n",
        "      # Reshape so that itll be matrix\n",
        "      x_i = X[i].reshape(X[i].shape[0], 1)\n",
        "\n",
        "      # Find cov\n",
        "      first = (x_i - self.params['mu_0'])\n",
        "      second = (x_i - self.params['mu_0']).T\n",
        "      sum_cov0 += first @ second\n",
        "\n",
        "    sum_cov1 = np.zeros((d, d))\n",
        "    for i in list_x_1:\n",
        "      # Reshape so that itll be matrix\n",
        "      x_i = X[i].reshape(X[i].shape[0], 1)\n",
        "\n",
        "      # Find cov\n",
        "      first = (x_i - self.params['mu_1'])\n",
        "      second = (x_i - self.params['mu_1']).T\n",
        "      sum_cov1 += first @ second\n",
        "      # sum_cov1 += (x_i - self.params['mu_1']) @ (x_i - self.params['mu_1']).T\n",
        "\n",
        "    self.params['sigma'] = (sum_cov0 + sum_cov1 ) / num_train\n",
        "\n",
        "    # + np.sum((self.params['X_1'] - self.params['mu_1']) @ (self.params['X_1'] - self.params['mu_1']).T)\n",
        "    # self.params['sigma'] = self.params['sigma'] / num_train\n",
        "\n",
        "\n",
        "  def train(self):\n",
        "    \"\"\"Untuk train model linear regresi\"\"\"\n",
        "    self.calculate(self.X, self.y)\n"
      ],
      "metadata": {
        "id": "TrgfbO7wIVkG"
      },
      "execution_count": 102,
      "outputs": []
    },
    {
      "cell_type": "code",
      "source": [
        "model = GDA(X_train, y_train)\n",
        "model.train()\n",
        "model.predict(X_test)"
      ],
      "metadata": {
        "colab": {
          "base_uri": "https://localhost:8080/",
          "height": 492
        },
        "id": "aowp9ZI9aDar",
        "outputId": "4a1aa518-6e01-41ab-a664-c9bc878ecd7c"
      },
      "execution_count": 103,
      "outputs": [
        {
          "output_type": "stream",
          "name": "stdout",
          "text": [
            "sblm x\n",
            "hbs x\n",
            "X shape : (38, 5)\n",
            "cov1st shape : (5,)\n",
            "hbs cov\n",
            "hbs simga inv\n",
            "hbs cov2nd\n",
            "hbs yo\n"
          ]
        },
        {
          "output_type": "error",
          "ename": "ValueError",
          "evalue": "matmul: Input operand 1 has a mismatch in its core dimension 0, with gufunc signature (n?,k),(k,m?)->(n?,m?) (size 5 is different from 38)",
          "traceback": [
            "\u001b[0;31m---------------------------------------------------------------------------\u001b[0m",
            "\u001b[0;31mValueError\u001b[0m                                Traceback (most recent call last)",
            "\u001b[0;32m<ipython-input-103-cee89f2d7a44>\u001b[0m in \u001b[0;36m<cell line: 0>\u001b[0;34m()\u001b[0m\n\u001b[1;32m      1\u001b[0m \u001b[0mmodel\u001b[0m \u001b[0;34m=\u001b[0m \u001b[0mGDA\u001b[0m\u001b[0;34m(\u001b[0m\u001b[0mX_train\u001b[0m\u001b[0;34m,\u001b[0m \u001b[0my_train\u001b[0m\u001b[0;34m)\u001b[0m\u001b[0;34m\u001b[0m\u001b[0;34m\u001b[0m\u001b[0m\n\u001b[1;32m      2\u001b[0m \u001b[0mmodel\u001b[0m\u001b[0;34m.\u001b[0m\u001b[0mtrain\u001b[0m\u001b[0;34m(\u001b[0m\u001b[0;34m)\u001b[0m\u001b[0;34m\u001b[0m\u001b[0;34m\u001b[0m\u001b[0m\n\u001b[0;32m----> 3\u001b[0;31m \u001b[0mmodel\u001b[0m\u001b[0;34m.\u001b[0m\u001b[0mpredict\u001b[0m\u001b[0;34m(\u001b[0m\u001b[0mX_test\u001b[0m\u001b[0;34m)\u001b[0m\u001b[0;34m\u001b[0m\u001b[0;34m\u001b[0m\u001b[0m\n\u001b[0m",
            "\u001b[0;32m<ipython-input-102-1389007feb94>\u001b[0m in \u001b[0;36mpredict\u001b[0;34m(self, X, mode)\u001b[0m\n\u001b[1;32m     24\u001b[0m       \u001b[0mX\u001b[0m \u001b[0;34m=\u001b[0m \u001b[0mnp\u001b[0m\u001b[0;34m.\u001b[0m\u001b[0mconcatenate\u001b[0m\u001b[0;34m(\u001b[0m\u001b[0;34m(\u001b[0m\u001b[0mnp\u001b[0m\u001b[0;34m.\u001b[0m\u001b[0mones\u001b[0m\u001b[0;34m(\u001b[0m\u001b[0;34m[\u001b[0m\u001b[0mnp\u001b[0m\u001b[0;34m.\u001b[0m\u001b[0mshape\u001b[0m\u001b[0;34m(\u001b[0m\u001b[0mX\u001b[0m\u001b[0;34m)\u001b[0m\u001b[0;34m[\u001b[0m\u001b[0;36m0\u001b[0m\u001b[0;34m]\u001b[0m\u001b[0;34m,\u001b[0m \u001b[0;36m1\u001b[0m\u001b[0;34m]\u001b[0m\u001b[0;34m)\u001b[0m\u001b[0;34m,\u001b[0m \u001b[0mX\u001b[0m\u001b[0;34m)\u001b[0m\u001b[0;34m,\u001b[0m\u001b[0maxis\u001b[0m\u001b[0;34m=\u001b[0m\u001b[0;36m1\u001b[0m\u001b[0;34m)\u001b[0m\u001b[0;34m\u001b[0m\u001b[0;34m\u001b[0m\u001b[0m\n\u001b[1;32m     25\u001b[0m       \u001b[0mprint\u001b[0m\u001b[0;34m(\u001b[0m\u001b[0;34m'hbs x'\u001b[0m\u001b[0;34m)\u001b[0m\u001b[0;34m\u001b[0m\u001b[0;34m\u001b[0m\u001b[0m\n\u001b[0;32m---> 26\u001b[0;31m       \u001b[0moutput\u001b[0m \u001b[0;34m=\u001b[0m \u001b[0mself\u001b[0m\u001b[0;34m.\u001b[0m\u001b[0mforward\u001b[0m\u001b[0;34m(\u001b[0m\u001b[0mX\u001b[0m\u001b[0;34m)\u001b[0m\u001b[0;34m\u001b[0m\u001b[0;34m\u001b[0m\u001b[0m\n\u001b[0m\u001b[1;32m     27\u001b[0m       \u001b[0mprint\u001b[0m\u001b[0;34m(\u001b[0m\u001b[0;34m'hbs fwd'\u001b[0m\u001b[0;34m)\u001b[0m\u001b[0;34m\u001b[0m\u001b[0;34m\u001b[0m\u001b[0m\n\u001b[1;32m     28\u001b[0m       \u001b[0;32mreturn\u001b[0m \u001b[0moutput\u001b[0m\u001b[0;34m\u001b[0m\u001b[0;34m\u001b[0m\u001b[0m\n",
            "\u001b[0;32m<ipython-input-102-1389007feb94>\u001b[0m in \u001b[0;36mforward\u001b[0;34m(self, X)\u001b[0m\n\u001b[1;32m     44\u001b[0m       \u001b[0mtes\u001b[0m \u001b[0;34m=\u001b[0m \u001b[0mcov1st\u001b[0m \u001b[0;34m*\u001b[0m \u001b[0msigma_inv\u001b[0m\u001b[0;34m\u001b[0m\u001b[0;34m\u001b[0m\u001b[0m\n\u001b[1;32m     45\u001b[0m       \u001b[0mprint\u001b[0m\u001b[0;34m(\u001b[0m\u001b[0;34m'hbs yo'\u001b[0m\u001b[0;34m)\u001b[0m\u001b[0;34m\u001b[0m\u001b[0;34m\u001b[0m\u001b[0m\n\u001b[0;32m---> 46\u001b[0;31m       \u001b[0mexp_1st\u001b[0m \u001b[0;34m=\u001b[0m \u001b[0;34m-\u001b[0m\u001b[0;36m1\u001b[0m\u001b[0;34m/\u001b[0m\u001b[0;36m2\u001b[0m \u001b[0;34m*\u001b[0m \u001b[0;34m(\u001b[0m\u001b[0mX\u001b[0m \u001b[0;34m-\u001b[0m \u001b[0mself\u001b[0m\u001b[0;34m.\u001b[0m\u001b[0mparams\u001b[0m\u001b[0;34m[\u001b[0m\u001b[0;34m'mu_0'\u001b[0m\u001b[0;34m]\u001b[0m\u001b[0;34m)\u001b[0m\u001b[0;34m.\u001b[0m\u001b[0mT\u001b[0m \u001b[0;34m@\u001b[0m \u001b[0mnp\u001b[0m\u001b[0;34m.\u001b[0m\u001b[0mlinalg\u001b[0m\u001b[0;34m.\u001b[0m\u001b[0minv\u001b[0m\u001b[0;34m(\u001b[0m\u001b[0mself\u001b[0m\u001b[0;34m.\u001b[0m\u001b[0mparams\u001b[0m\u001b[0;34m[\u001b[0m\u001b[0;34m'sigma'\u001b[0m\u001b[0;34m]\u001b[0m\u001b[0;34m)\u001b[0m \u001b[0;34m@\u001b[0m \u001b[0;34m(\u001b[0m\u001b[0mX\u001b[0m \u001b[0;34m-\u001b[0m \u001b[0mself\u001b[0m\u001b[0;34m.\u001b[0m\u001b[0mparams\u001b[0m\u001b[0;34m[\u001b[0m\u001b[0;34m'mu_0'\u001b[0m\u001b[0;34m]\u001b[0m\u001b[0;34m)\u001b[0m\u001b[0;34m\u001b[0m\u001b[0;34m\u001b[0m\u001b[0m\n\u001b[0m\u001b[1;32m     47\u001b[0m       \u001b[0mprint\u001b[0m\u001b[0;34m(\u001b[0m\u001b[0;34m'hbs 1st'\u001b[0m\u001b[0;34m)\u001b[0m\u001b[0;34m\u001b[0m\u001b[0;34m\u001b[0m\u001b[0m\n\u001b[1;32m     48\u001b[0m       \u001b[0mexp_2nd\u001b[0m \u001b[0;34m=\u001b[0m \u001b[0;36m1\u001b[0m\u001b[0;34m/\u001b[0m\u001b[0;36m2\u001b[0m \u001b[0;34m*\u001b[0m \u001b[0;34m(\u001b[0m\u001b[0mX\u001b[0m \u001b[0;34m-\u001b[0m \u001b[0mself\u001b[0m\u001b[0;34m.\u001b[0m\u001b[0mparams\u001b[0m\u001b[0;34m[\u001b[0m\u001b[0;34m'mu_1'\u001b[0m\u001b[0;34m]\u001b[0m\u001b[0;34m)\u001b[0m\u001b[0;34m.\u001b[0m\u001b[0mT\u001b[0m \u001b[0;34m@\u001b[0m \u001b[0mnp\u001b[0m\u001b[0;34m.\u001b[0m\u001b[0mlinalg\u001b[0m\u001b[0;34m.\u001b[0m\u001b[0minv\u001b[0m\u001b[0;34m(\u001b[0m\u001b[0mself\u001b[0m\u001b[0;34m.\u001b[0m\u001b[0mparams\u001b[0m\u001b[0;34m[\u001b[0m\u001b[0;34m'sigma'\u001b[0m\u001b[0;34m]\u001b[0m\u001b[0;34m)\u001b[0m \u001b[0;34m@\u001b[0m \u001b[0;34m(\u001b[0m\u001b[0mX\u001b[0m \u001b[0;34m-\u001b[0m \u001b[0mself\u001b[0m\u001b[0;34m.\u001b[0m\u001b[0mparams\u001b[0m\u001b[0;34m[\u001b[0m\u001b[0;34m'mu_1'\u001b[0m\u001b[0;34m]\u001b[0m\u001b[0;34m)\u001b[0m\u001b[0;34m\u001b[0m\u001b[0;34m\u001b[0m\u001b[0m\n",
            "\u001b[0;31mValueError\u001b[0m: matmul: Input operand 1 has a mismatch in its core dimension 0, with gufunc signature (n?,k),(k,m?)->(n?,m?) (size 5 is different from 38)"
          ]
        }
      ]
    },
    {
      "cell_type": "code",
      "source": [
        "model.params['sigma']"
      ],
      "metadata": {
        "colab": {
          "base_uri": "https://localhost:8080/"
        },
        "id": "3Pudj96fi8-m",
        "outputId": "1d5eb884-f1ff-4edc-b825-292c8989a83d"
      },
      "execution_count": 98,
      "outputs": [
        {
          "output_type": "execute_result",
          "data": {
            "text/plain": [
              "array([[ 3.30643757,  0.62863608, -1.38927086,  1.31885021,  0.93613154],\n",
              "       [ 0.62863608,  2.23436682,  2.19621442,  1.36582028,  1.29405001],\n",
              "       [-1.38927086,  2.19621442,  5.04811048,  1.05736629,  1.50175659],\n",
              "       [ 1.31885021,  1.36582028,  1.05736629,  1.29069231,  1.17580369],\n",
              "       [ 0.93613154,  1.29405001,  1.50175659,  1.17580369,  1.22735376]])"
            ]
          },
          "metadata": {},
          "execution_count": 98
        }
      ]
    },
    {
      "cell_type": "code",
      "source": [
        "X_test.shape"
      ],
      "metadata": {
        "colab": {
          "base_uri": "https://localhost:8080/"
        },
        "id": "pvcWDMriiXG2",
        "outputId": "e44e1983-a8f6-48cc-ac28-42f482dee7ab"
      },
      "execution_count": 99,
      "outputs": [
        {
          "output_type": "execute_result",
          "data": {
            "text/plain": [
              "(38, 4)"
            ]
          },
          "metadata": {},
          "execution_count": 99
        }
      ]
    },
    {
      "cell_type": "code",
      "source": [
        "model.params['mu_0']"
      ],
      "metadata": {
        "colab": {
          "base_uri": "https://localhost:8080/"
        },
        "id": "gWPYYT-7jCyn",
        "outputId": "08a67991-1f8e-4790-bd3f-3333f24c7879"
      },
      "execution_count": 58,
      "outputs": [
        {
          "output_type": "execute_result",
          "data": {
            "text/plain": [
              "np.float64(-1.7882527424739654)"
            ]
          },
          "metadata": {},
          "execution_count": 58
        }
      ]
    },
    {
      "cell_type": "code",
      "source": [],
      "metadata": {
        "id": "L5TWubOWivu_"
      },
      "execution_count": null,
      "outputs": []
    }
  ]
}